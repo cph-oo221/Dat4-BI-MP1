{
 "cells": [
  {
   "cell_type": "markdown",
   "id": "2e22a4b4-c1cc-405b-b412-092f1c695970",
   "metadata": {},
   "source": [
    "# Data loading:"
   ]
  },
  {
   "cell_type": "code",
   "execution_count": 1,
   "id": "878a0292-2deb-457d-8ef4-029fadcde3ef",
   "metadata": {},
   "outputs": [],
   "source": [
    "# import our own data reader for txt \n",
    "import txtreader as tr\n",
    "\n",
    "# import pandas for structuring the data\n",
    "import pandas as pd\n",
    "\n",
    "# import numpy for numerical analysis\n",
    "import numpy as np\n",
    "\n",
    "import os"
   ]
  },
  {
   "cell_type": "code",
   "execution_count": 2,
   "id": "1a3f4c89-839f-4a32-802e-cfd8da72929b",
   "metadata": {},
   "outputs": [],
   "source": [
    "# Geting path for txt file. Using os.\n",
    "cwd = os.getcwd()\n",
    "path = cwd + '\\\\data\\\\aadr.us.txt'"
   ]
  },
  {
   "cell_type": "code",
   "execution_count": 3,
   "id": "15f9765b-05f1-459d-9fc1-3b64d59ea046",
   "metadata": {},
   "outputs": [],
   "source": [
    "# Loading data file with type txt, using txtreader (tr):\n",
    "metadata, text = tr.read_txt(path)"
   ]
  },
  {
   "cell_type": "code",
   "execution_count": 4,
   "id": "b9c4d912-d489-45f7-929c-e3947052e526",
   "metadata": {},
   "outputs": [
    {
     "data": {
      "text/plain": [
       "{'created': '2024-02-06 11:00:16',\n",
       " 'modified': '2024-02-06 10:30:54',\n",
       " 'size': 72474}"
      ]
     },
     "execution_count": 4,
     "metadata": {},
     "output_type": "execute_result"
    }
   ],
   "source": [
    "# File metadata:\n",
    "metadata"
   ]
  },
  {
   "cell_type": "code",
   "execution_count": 5,
   "id": "ba099b8c-53f5-4b8e-b9a4-d6efa6856180",
   "metadata": {},
   "outputs": [
    {
     "data": {
      "text/html": [
       "<div>\n",
       "<style scoped>\n",
       "    .dataframe tbody tr th:only-of-type {\n",
       "        vertical-align: middle;\n",
       "    }\n",
       "\n",
       "    .dataframe tbody tr th {\n",
       "        vertical-align: top;\n",
       "    }\n",
       "\n",
       "    .dataframe thead th {\n",
       "        text-align: right;\n",
       "    }\n",
       "</style>\n",
       "<table border=\"1\" class=\"dataframe\">\n",
       "  <thead>\n",
       "    <tr style=\"text-align: right;\">\n",
       "      <th></th>\n",
       "      <th>Date</th>\n",
       "      <th>Open</th>\n",
       "      <th>High</th>\n",
       "      <th>Low</th>\n",
       "      <th>Close</th>\n",
       "      <th>Volume</th>\n",
       "      <th>OpenInt</th>\n",
       "    </tr>\n",
       "  </thead>\n",
       "  <tbody>\n",
       "    <tr>\n",
       "      <th>0</th>\n",
       "      <td>2010-07-21</td>\n",
       "      <td>24.333</td>\n",
       "      <td>24.333</td>\n",
       "      <td>23.946</td>\n",
       "      <td>23.946</td>\n",
       "      <td>43321</td>\n",
       "      <td>0</td>\n",
       "    </tr>\n",
       "    <tr>\n",
       "      <th>1</th>\n",
       "      <td>2010-07-22</td>\n",
       "      <td>24.644</td>\n",
       "      <td>24.644</td>\n",
       "      <td>24.362</td>\n",
       "      <td>24.487</td>\n",
       "      <td>18031</td>\n",
       "      <td>0</td>\n",
       "    </tr>\n",
       "    <tr>\n",
       "      <th>2</th>\n",
       "      <td>2010-07-23</td>\n",
       "      <td>24.759</td>\n",
       "      <td>24.759</td>\n",
       "      <td>24.314</td>\n",
       "      <td>24.507</td>\n",
       "      <td>8897</td>\n",
       "      <td>0</td>\n",
       "    </tr>\n",
       "    <tr>\n",
       "      <th>3</th>\n",
       "      <td>2010-07-26</td>\n",
       "      <td>24.624</td>\n",
       "      <td>24.624</td>\n",
       "      <td>24.449</td>\n",
       "      <td>24.595</td>\n",
       "      <td>19443</td>\n",
       "      <td>0</td>\n",
       "    </tr>\n",
       "    <tr>\n",
       "      <th>4</th>\n",
       "      <td>2010-07-27</td>\n",
       "      <td>24.477</td>\n",
       "      <td>24.517</td>\n",
       "      <td>24.431</td>\n",
       "      <td>24.517</td>\n",
       "      <td>8456</td>\n",
       "      <td>0</td>\n",
       "    </tr>\n",
       "    <tr>\n",
       "      <th>...</th>\n",
       "      <td>...</td>\n",
       "      <td>...</td>\n",
       "      <td>...</td>\n",
       "      <td>...</td>\n",
       "      <td>...</td>\n",
       "      <td>...</td>\n",
       "      <td>...</td>\n",
       "    </tr>\n",
       "    <tr>\n",
       "      <th>1561</th>\n",
       "      <td>2017-11-07</td>\n",
       "      <td>57.29</td>\n",
       "      <td>57.346</td>\n",
       "      <td>57.1446</td>\n",
       "      <td>57.285</td>\n",
       "      <td>50935</td>\n",
       "      <td>0</td>\n",
       "    </tr>\n",
       "    <tr>\n",
       "      <th>1562</th>\n",
       "      <td>2017-11-08</td>\n",
       "      <td>57.31</td>\n",
       "      <td>57.55</td>\n",
       "      <td>57.22</td>\n",
       "      <td>57.49</td>\n",
       "      <td>71770</td>\n",
       "      <td>0</td>\n",
       "    </tr>\n",
       "    <tr>\n",
       "      <th>1563</th>\n",
       "      <td>2017-11-09</td>\n",
       "      <td>57.23</td>\n",
       "      <td>57.23</td>\n",
       "      <td>56.71</td>\n",
       "      <td>56.9265</td>\n",
       "      <td>53130</td>\n",
       "      <td>0</td>\n",
       "    </tr>\n",
       "    <tr>\n",
       "      <th>1564</th>\n",
       "      <td>2017-11-10</td>\n",
       "      <td>56.96</td>\n",
       "      <td>56.96</td>\n",
       "      <td>56.3909</td>\n",
       "      <td>56.4</td>\n",
       "      <td>29233</td>\n",
       "      <td>0</td>\n",
       "    </tr>\n",
       "    <tr>\n",
       "      <th>1565</th>\n",
       "      <td></td>\n",
       "      <td>None</td>\n",
       "      <td>None</td>\n",
       "      <td>None</td>\n",
       "      <td>None</td>\n",
       "      <td>None</td>\n",
       "      <td>None</td>\n",
       "    </tr>\n",
       "  </tbody>\n",
       "</table>\n",
       "<p>1566 rows × 7 columns</p>\n",
       "</div>"
      ],
      "text/plain": [
       "            Date    Open    High      Low    Close Volume OpenInt\n",
       "0     2010-07-21  24.333  24.333   23.946   23.946  43321       0\n",
       "1     2010-07-22  24.644  24.644   24.362   24.487  18031       0\n",
       "2     2010-07-23  24.759  24.759   24.314   24.507   8897       0\n",
       "3     2010-07-26  24.624  24.624   24.449   24.595  19443       0\n",
       "4     2010-07-27  24.477  24.517   24.431   24.517   8456       0\n",
       "...          ...     ...     ...      ...      ...    ...     ...\n",
       "1561  2017-11-07   57.29  57.346  57.1446   57.285  50935       0\n",
       "1562  2017-11-08   57.31   57.55    57.22    57.49  71770       0\n",
       "1563  2017-11-09   57.23   57.23    56.71  56.9265  53130       0\n",
       "1564  2017-11-10   56.96   56.96  56.3909     56.4  29233       0\n",
       "1565                None    None     None     None   None    None\n",
       "\n",
       "[1566 rows x 7 columns]"
      ]
     },
     "execution_count": 5,
     "metadata": {},
     "output_type": "execute_result"
    }
   ],
   "source": [
    "# File raw text/content:\n",
    "text"
   ]
  },
  {
   "cell_type": "code",
   "execution_count": 6,
   "id": "ff39743f-dec6-469c-b621-089285f571b7",
   "metadata": {},
   "outputs": [],
   "source": [
    "# Make a DataFrame with the columns filetype, meta and text:\n",
    "df = pd.DataFrame(columns = ['filetype','meta', 'text'])"
   ]
  },
  {
   "cell_type": "code",
   "execution_count": 7,
   "id": "2bc9e006-150e-4353-96be-f24d7acd98d9",
   "metadata": {},
   "outputs": [
    {
     "data": {
      "text/html": [
       "<div>\n",
       "<style scoped>\n",
       "    .dataframe tbody tr th:only-of-type {\n",
       "        vertical-align: middle;\n",
       "    }\n",
       "\n",
       "    .dataframe tbody tr th {\n",
       "        vertical-align: top;\n",
       "    }\n",
       "\n",
       "    .dataframe thead th {\n",
       "        text-align: right;\n",
       "    }\n",
       "</style>\n",
       "<table border=\"1\" class=\"dataframe\">\n",
       "  <thead>\n",
       "    <tr style=\"text-align: right;\">\n",
       "      <th></th>\n",
       "      <th>filetype</th>\n",
       "      <th>meta</th>\n",
       "      <th>text</th>\n",
       "    </tr>\n",
       "  </thead>\n",
       "  <tbody>\n",
       "  </tbody>\n",
       "</table>\n",
       "</div>"
      ],
      "text/plain": [
       "Empty DataFrame\n",
       "Columns: [filetype, meta, text]\n",
       "Index: []"
      ]
     },
     "execution_count": 7,
     "metadata": {},
     "output_type": "execute_result"
    }
   ],
   "source": [
    "# Verify the columns have been created:\n",
    "df"
   ]
  },
  {
   "cell_type": "code",
   "execution_count": 8,
   "id": "748c54f5-9e73-4450-a6f7-369ca4f54960",
   "metadata": {},
   "outputs": [],
   "source": [
    "# All the txt files:\n",
    "in_txt = [path]"
   ]
  },
  {
   "cell_type": "code",
   "execution_count": 9,
   "id": "cb361392-c298-42d0-aba3-6d46b5db8204",
   "metadata": {},
   "outputs": [
    {
     "data": {
      "text/plain": [
       "[            Date    Open    High      Low    Close Volume OpenInt\n",
       " 0     2010-07-21  24.333  24.333   23.946   23.946  43321       0\n",
       " 1     2010-07-22  24.644  24.644   24.362   24.487  18031       0\n",
       " 2     2010-07-23  24.759  24.759   24.314   24.507   8897       0\n",
       " 3     2010-07-26  24.624  24.624   24.449   24.595  19443       0\n",
       " 4     2010-07-27  24.477  24.517   24.431   24.517   8456       0\n",
       " ...          ...     ...     ...      ...      ...    ...     ...\n",
       " 1561  2017-11-07   57.29  57.346  57.1446   57.285  50935       0\n",
       " 1562  2017-11-08   57.31   57.55    57.22    57.49  71770       0\n",
       " 1563  2017-11-09   57.23   57.23    56.71  56.9265  53130       0\n",
       " 1564  2017-11-10   56.96   56.96  56.3909     56.4  29233       0\n",
       " 1565                None    None     None     None   None    None\n",
       " \n",
       " [1566 rows x 7 columns]]"
      ]
     },
     "execution_count": 9,
     "metadata": {},
     "output_type": "execute_result"
    }
   ],
   "source": [
    "ingestable = []\n",
    "for uri in in_txt:\n",
    "    mymeta, text = tr.read_txt(uri)\n",
    "    ingestable.append(text)\n",
    "    \n",
    "    # Adding an index to the dataframe:\n",
    "    df.loc[len(df.index)] = ['txt', mymeta, text]\n",
    "ingestable"
   ]
  },
  {
   "cell_type": "code",
   "execution_count": 10,
   "id": "b8f4d0dd-8f87-41ea-9376-02e24aba1be8",
   "metadata": {},
   "outputs": [
    {
     "data": {
      "text/html": [
       "<div>\n",
       "<style scoped>\n",
       "    .dataframe tbody tr th:only-of-type {\n",
       "        vertical-align: middle;\n",
       "    }\n",
       "\n",
       "    .dataframe tbody tr th {\n",
       "        vertical-align: top;\n",
       "    }\n",
       "\n",
       "    .dataframe thead th {\n",
       "        text-align: right;\n",
       "    }\n",
       "</style>\n",
       "<table border=\"1\" class=\"dataframe\">\n",
       "  <thead>\n",
       "    <tr style=\"text-align: right;\">\n",
       "      <th></th>\n",
       "      <th>filetype</th>\n",
       "      <th>meta</th>\n",
       "      <th>text</th>\n",
       "    </tr>\n",
       "  </thead>\n",
       "  <tbody>\n",
       "    <tr>\n",
       "      <th>0</th>\n",
       "      <td>txt</td>\n",
       "      <td>{'created': '2024-02-06 11:00:16', 'modified':...</td>\n",
       "      <td>Date    Open    High      Low    C...</td>\n",
       "    </tr>\n",
       "  </tbody>\n",
       "</table>\n",
       "</div>"
      ],
      "text/plain": [
       "  filetype                                               meta  \\\n",
       "0      txt  {'created': '2024-02-06 11:00:16', 'modified':...   \n",
       "\n",
       "                                                text  \n",
       "0              Date    Open    High      Low    C...  "
      ]
     },
     "execution_count": 10,
     "metadata": {},
     "output_type": "execute_result"
    }
   ],
   "source": [
    "df "
   ]
  },
  {
   "cell_type": "code",
   "execution_count": 11,
   "id": "11ec71c4-bbb2-418e-9e7f-d575d6fba3ad",
   "metadata": {
    "scrolled": true
   },
   "outputs": [
    {
     "data": {
      "text/html": [
       "<div>\n",
       "<style scoped>\n",
       "    .dataframe tbody tr th:only-of-type {\n",
       "        vertical-align: middle;\n",
       "    }\n",
       "\n",
       "    .dataframe tbody tr th {\n",
       "        vertical-align: top;\n",
       "    }\n",
       "\n",
       "    .dataframe thead th {\n",
       "        text-align: right;\n",
       "    }\n",
       "</style>\n",
       "<table border=\"1\" class=\"dataframe\">\n",
       "  <thead>\n",
       "    <tr style=\"text-align: right;\">\n",
       "      <th></th>\n",
       "      <th>Date</th>\n",
       "      <th>Open</th>\n",
       "      <th>High</th>\n",
       "      <th>Low</th>\n",
       "      <th>Close</th>\n",
       "      <th>Volume</th>\n",
       "      <th>OpenInt</th>\n",
       "    </tr>\n",
       "  </thead>\n",
       "  <tbody>\n",
       "    <tr>\n",
       "      <th>0</th>\n",
       "      <td>2010-07-21</td>\n",
       "      <td>24.333</td>\n",
       "      <td>24.333</td>\n",
       "      <td>23.946</td>\n",
       "      <td>23.946</td>\n",
       "      <td>43321</td>\n",
       "      <td>0</td>\n",
       "    </tr>\n",
       "    <tr>\n",
       "      <th>1</th>\n",
       "      <td>2010-07-22</td>\n",
       "      <td>24.644</td>\n",
       "      <td>24.644</td>\n",
       "      <td>24.362</td>\n",
       "      <td>24.487</td>\n",
       "      <td>18031</td>\n",
       "      <td>0</td>\n",
       "    </tr>\n",
       "    <tr>\n",
       "      <th>2</th>\n",
       "      <td>2010-07-23</td>\n",
       "      <td>24.759</td>\n",
       "      <td>24.759</td>\n",
       "      <td>24.314</td>\n",
       "      <td>24.507</td>\n",
       "      <td>8897</td>\n",
       "      <td>0</td>\n",
       "    </tr>\n",
       "    <tr>\n",
       "      <th>3</th>\n",
       "      <td>2010-07-26</td>\n",
       "      <td>24.624</td>\n",
       "      <td>24.624</td>\n",
       "      <td>24.449</td>\n",
       "      <td>24.595</td>\n",
       "      <td>19443</td>\n",
       "      <td>0</td>\n",
       "    </tr>\n",
       "    <tr>\n",
       "      <th>4</th>\n",
       "      <td>2010-07-27</td>\n",
       "      <td>24.477</td>\n",
       "      <td>24.517</td>\n",
       "      <td>24.431</td>\n",
       "      <td>24.517</td>\n",
       "      <td>8456</td>\n",
       "      <td>0</td>\n",
       "    </tr>\n",
       "  </tbody>\n",
       "</table>\n",
       "</div>"
      ],
      "text/plain": [
       "         Date    Open    High     Low   Close Volume OpenInt\n",
       "0  2010-07-21  24.333  24.333  23.946  23.946  43321       0\n",
       "1  2010-07-22  24.644  24.644  24.362  24.487  18031       0\n",
       "2  2010-07-23  24.759  24.759  24.314  24.507   8897       0\n",
       "3  2010-07-26  24.624  24.624  24.449  24.595  19443       0\n",
       "4  2010-07-27  24.477  24.517  24.431  24.517   8456       0"
      ]
     },
     "execution_count": 11,
     "metadata": {},
     "output_type": "execute_result"
    }
   ],
   "source": [
    "df['text'][0].head()"
   ]
  },
  {
   "cell_type": "code",
   "execution_count": 12,
   "id": "7ba2c2aa-06ee-45df-9c3b-83dd832286e3",
   "metadata": {
    "scrolled": true
   },
   "outputs": [
    {
     "data": {
      "text/plain": [
       "(1566, 7)"
      ]
     },
     "execution_count": 12,
     "metadata": {},
     "output_type": "execute_result"
    }
   ],
   "source": [
    "df['text'][0].shape"
   ]
  },
  {
   "cell_type": "code",
   "execution_count": 13,
   "id": "f46f4f0f-d5d9-4516-bdf8-4152769c0725",
   "metadata": {},
   "outputs": [
    {
     "data": {
      "text/plain": [
       "Index(['Date', 'Open', 'High', 'Low', 'Close', 'Volume', 'OpenInt'], dtype='object')"
      ]
     },
     "execution_count": 13,
     "metadata": {},
     "output_type": "execute_result"
    }
   ],
   "source": [
    "df['text'][0].columns"
   ]
  },
  {
   "cell_type": "markdown",
   "id": "eb397983-0832-4461-a12e-2fbfc3550d5f",
   "metadata": {},
   "source": [
    "# Exploring and Cleaning Data"
   ]
  },
  {
   "cell_type": "code",
   "execution_count": 14,
   "id": "a184e8e8-768b-44ad-9ef7-addbac75b860",
   "metadata": {
    "scrolled": true
   },
   "outputs": [
    {
     "data": {
      "text/plain": [
       "Date       0\n",
       "Open       1\n",
       "High       1\n",
       "Low        1\n",
       "Close      1\n",
       "Volume     1\n",
       "OpenInt    1\n",
       "dtype: int64"
      ]
     },
     "execution_count": 14,
     "metadata": {},
     "output_type": "execute_result"
    }
   ],
   "source": [
    "# Count the missing values in DataFrame\n",
    "df['text'][0].isnull().sum()"
   ]
  },
  {
   "cell_type": "code",
   "execution_count": 15,
   "id": "358897ec-ab21-4987-ae77-75b621738545",
   "metadata": {},
   "outputs": [
    {
     "data": {
      "text/plain": [
       "Date           \n",
       "Open       None\n",
       "High       None\n",
       "Low        None\n",
       "Close      None\n",
       "Volume     None\n",
       "OpenInt    None\n",
       "Name: 1565, dtype: object"
      ]
     },
     "execution_count": 15,
     "metadata": {},
     "output_type": "execute_result"
    }
   ],
   "source": [
    "# Hole row with None \n",
    "df['text'][0].iloc[1565]"
   ]
  },
  {
   "cell_type": "code",
   "execution_count": 16,
   "id": "8493046f-90f7-4a7a-af14-1de01044a877",
   "metadata": {},
   "outputs": [],
   "source": [
    "# Droping OpenInt due to being all zero's:\n",
    "df['text'][0] = df['text'][0].drop(['OpenInt'], axis=1)\n",
    "\n",
    "# Droping hole row at index 1565 due to being all None:\n",
    "df['text'][0] = df['text'][0].drop(1565)"
   ]
  },
  {
   "cell_type": "code",
   "execution_count": 17,
   "id": "db100905-8596-4b9d-a026-93997013785b",
   "metadata": {},
   "outputs": [
    {
     "data": {
      "text/html": [
       "<div>\n",
       "<style scoped>\n",
       "    .dataframe tbody tr th:only-of-type {\n",
       "        vertical-align: middle;\n",
       "    }\n",
       "\n",
       "    .dataframe tbody tr th {\n",
       "        vertical-align: top;\n",
       "    }\n",
       "\n",
       "    .dataframe thead th {\n",
       "        text-align: right;\n",
       "    }\n",
       "</style>\n",
       "<table border=\"1\" class=\"dataframe\">\n",
       "  <thead>\n",
       "    <tr style=\"text-align: right;\">\n",
       "      <th></th>\n",
       "      <th>Date</th>\n",
       "      <th>Open</th>\n",
       "      <th>High</th>\n",
       "      <th>Low</th>\n",
       "      <th>Close</th>\n",
       "      <th>Volume</th>\n",
       "    </tr>\n",
       "  </thead>\n",
       "  <tbody>\n",
       "    <tr>\n",
       "      <th>0</th>\n",
       "      <td>2010-07-21</td>\n",
       "      <td>24.333</td>\n",
       "      <td>24.333</td>\n",
       "      <td>23.946</td>\n",
       "      <td>23.946</td>\n",
       "      <td>43321</td>\n",
       "    </tr>\n",
       "    <tr>\n",
       "      <th>1</th>\n",
       "      <td>2010-07-22</td>\n",
       "      <td>24.644</td>\n",
       "      <td>24.644</td>\n",
       "      <td>24.362</td>\n",
       "      <td>24.487</td>\n",
       "      <td>18031</td>\n",
       "    </tr>\n",
       "    <tr>\n",
       "      <th>2</th>\n",
       "      <td>2010-07-23</td>\n",
       "      <td>24.759</td>\n",
       "      <td>24.759</td>\n",
       "      <td>24.314</td>\n",
       "      <td>24.507</td>\n",
       "      <td>8897</td>\n",
       "    </tr>\n",
       "    <tr>\n",
       "      <th>3</th>\n",
       "      <td>2010-07-26</td>\n",
       "      <td>24.624</td>\n",
       "      <td>24.624</td>\n",
       "      <td>24.449</td>\n",
       "      <td>24.595</td>\n",
       "      <td>19443</td>\n",
       "    </tr>\n",
       "    <tr>\n",
       "      <th>4</th>\n",
       "      <td>2010-07-27</td>\n",
       "      <td>24.477</td>\n",
       "      <td>24.517</td>\n",
       "      <td>24.431</td>\n",
       "      <td>24.517</td>\n",
       "      <td>8456</td>\n",
       "    </tr>\n",
       "    <tr>\n",
       "      <th>...</th>\n",
       "      <td>...</td>\n",
       "      <td>...</td>\n",
       "      <td>...</td>\n",
       "      <td>...</td>\n",
       "      <td>...</td>\n",
       "      <td>...</td>\n",
       "    </tr>\n",
       "    <tr>\n",
       "      <th>1560</th>\n",
       "      <td>2017-11-06</td>\n",
       "      <td>57.61</td>\n",
       "      <td>57.7372</td>\n",
       "      <td>57.2285</td>\n",
       "      <td>57.65</td>\n",
       "      <td>41601</td>\n",
       "    </tr>\n",
       "    <tr>\n",
       "      <th>1561</th>\n",
       "      <td>2017-11-07</td>\n",
       "      <td>57.29</td>\n",
       "      <td>57.346</td>\n",
       "      <td>57.1446</td>\n",
       "      <td>57.285</td>\n",
       "      <td>50935</td>\n",
       "    </tr>\n",
       "    <tr>\n",
       "      <th>1562</th>\n",
       "      <td>2017-11-08</td>\n",
       "      <td>57.31</td>\n",
       "      <td>57.55</td>\n",
       "      <td>57.22</td>\n",
       "      <td>57.49</td>\n",
       "      <td>71770</td>\n",
       "    </tr>\n",
       "    <tr>\n",
       "      <th>1563</th>\n",
       "      <td>2017-11-09</td>\n",
       "      <td>57.23</td>\n",
       "      <td>57.23</td>\n",
       "      <td>56.71</td>\n",
       "      <td>56.9265</td>\n",
       "      <td>53130</td>\n",
       "    </tr>\n",
       "    <tr>\n",
       "      <th>1564</th>\n",
       "      <td>2017-11-10</td>\n",
       "      <td>56.96</td>\n",
       "      <td>56.96</td>\n",
       "      <td>56.3909</td>\n",
       "      <td>56.4</td>\n",
       "      <td>29233</td>\n",
       "    </tr>\n",
       "  </tbody>\n",
       "</table>\n",
       "<p>1565 rows × 6 columns</p>\n",
       "</div>"
      ],
      "text/plain": [
       "            Date    Open     High      Low    Close Volume\n",
       "0     2010-07-21  24.333   24.333   23.946   23.946  43321\n",
       "1     2010-07-22  24.644   24.644   24.362   24.487  18031\n",
       "2     2010-07-23  24.759   24.759   24.314   24.507   8897\n",
       "3     2010-07-26  24.624   24.624   24.449   24.595  19443\n",
       "4     2010-07-27  24.477   24.517   24.431   24.517   8456\n",
       "...          ...     ...      ...      ...      ...    ...\n",
       "1560  2017-11-06   57.61  57.7372  57.2285    57.65  41601\n",
       "1561  2017-11-07   57.29   57.346  57.1446   57.285  50935\n",
       "1562  2017-11-08   57.31    57.55    57.22    57.49  71770\n",
       "1563  2017-11-09   57.23    57.23    56.71  56.9265  53130\n",
       "1564  2017-11-10   56.96    56.96  56.3909     56.4  29233\n",
       "\n",
       "[1565 rows x 6 columns]"
      ]
     },
     "execution_count": 17,
     "metadata": {},
     "output_type": "execute_result"
    }
   ],
   "source": [
    "# Now empty/relevant data have been clean/remove:\n",
    "df['text'][0]"
   ]
  },
  {
   "cell_type": "code",
   "execution_count": 18,
   "id": "c2890001-5641-42a6-8a7b-3f55534d2692",
   "metadata": {},
   "outputs": [],
   "source": [
    "# Convert columns to numeric if they are not already:\n",
    "df['text'][0]['Open'] = pd.to_numeric(df['text'][0]['Open'])\n",
    "df['text'][0]['Close'] = pd.to_numeric(df['text'][0]['Close'])\n",
    "df['text'][0]['High'] = pd.to_numeric(df['text'][0]['High'])\n",
    "df['text'][0]['Low'] = pd.to_numeric(df['text'][0]['Low'])\n",
    "df['text'][0]['Volume'] = pd.to_numeric(df['text'][0]['Volume'])"
   ]
  },
  {
   "cell_type": "code",
   "execution_count": 19,
   "id": "6a9cfd0d-3f62-4bd6-b486-bd6ff2fe4ebf",
   "metadata": {},
   "outputs": [],
   "source": [
    "# Adding an additional column:\n",
    "# The procent change (daily) from when the marked open to close:\n",
    "tmp = df['text'][0]\n",
    "\n",
    "df['text'][0]['Change%'] =  ((tmp['Open'] - tmp['Close']) / tmp['Close'] * 100)"
   ]
  },
  {
   "cell_type": "code",
   "execution_count": 20,
   "id": "2de3e5eb-3761-48ab-b0c6-96b23ba9d31f",
   "metadata": {},
   "outputs": [
    {
     "data": {
      "text/html": [
       "<div>\n",
       "<style scoped>\n",
       "    .dataframe tbody tr th:only-of-type {\n",
       "        vertical-align: middle;\n",
       "    }\n",
       "\n",
       "    .dataframe tbody tr th {\n",
       "        vertical-align: top;\n",
       "    }\n",
       "\n",
       "    .dataframe thead th {\n",
       "        text-align: right;\n",
       "    }\n",
       "</style>\n",
       "<table border=\"1\" class=\"dataframe\">\n",
       "  <thead>\n",
       "    <tr style=\"text-align: right;\">\n",
       "      <th></th>\n",
       "      <th>Date</th>\n",
       "      <th>Open</th>\n",
       "      <th>High</th>\n",
       "      <th>Low</th>\n",
       "      <th>Close</th>\n",
       "      <th>Volume</th>\n",
       "      <th>Change%</th>\n",
       "    </tr>\n",
       "  </thead>\n",
       "  <tbody>\n",
       "    <tr>\n",
       "      <th>0</th>\n",
       "      <td>2010-07-21</td>\n",
       "      <td>24.333</td>\n",
       "      <td>24.3330</td>\n",
       "      <td>23.9460</td>\n",
       "      <td>23.9460</td>\n",
       "      <td>43321</td>\n",
       "      <td>1.616136</td>\n",
       "    </tr>\n",
       "    <tr>\n",
       "      <th>1</th>\n",
       "      <td>2010-07-22</td>\n",
       "      <td>24.644</td>\n",
       "      <td>24.6440</td>\n",
       "      <td>24.3620</td>\n",
       "      <td>24.4870</td>\n",
       "      <td>18031</td>\n",
       "      <td>0.641157</td>\n",
       "    </tr>\n",
       "    <tr>\n",
       "      <th>2</th>\n",
       "      <td>2010-07-23</td>\n",
       "      <td>24.759</td>\n",
       "      <td>24.7590</td>\n",
       "      <td>24.3140</td>\n",
       "      <td>24.5070</td>\n",
       "      <td>8897</td>\n",
       "      <td>1.028278</td>\n",
       "    </tr>\n",
       "    <tr>\n",
       "      <th>3</th>\n",
       "      <td>2010-07-26</td>\n",
       "      <td>24.624</td>\n",
       "      <td>24.6240</td>\n",
       "      <td>24.4490</td>\n",
       "      <td>24.5950</td>\n",
       "      <td>19443</td>\n",
       "      <td>0.117910</td>\n",
       "    </tr>\n",
       "    <tr>\n",
       "      <th>4</th>\n",
       "      <td>2010-07-27</td>\n",
       "      <td>24.477</td>\n",
       "      <td>24.5170</td>\n",
       "      <td>24.4310</td>\n",
       "      <td>24.5170</td>\n",
       "      <td>8456</td>\n",
       "      <td>-0.163152</td>\n",
       "    </tr>\n",
       "    <tr>\n",
       "      <th>...</th>\n",
       "      <td>...</td>\n",
       "      <td>...</td>\n",
       "      <td>...</td>\n",
       "      <td>...</td>\n",
       "      <td>...</td>\n",
       "      <td>...</td>\n",
       "      <td>...</td>\n",
       "    </tr>\n",
       "    <tr>\n",
       "      <th>1560</th>\n",
       "      <td>2017-11-06</td>\n",
       "      <td>57.610</td>\n",
       "      <td>57.7372</td>\n",
       "      <td>57.2285</td>\n",
       "      <td>57.6500</td>\n",
       "      <td>41601</td>\n",
       "      <td>-0.069384</td>\n",
       "    </tr>\n",
       "    <tr>\n",
       "      <th>1561</th>\n",
       "      <td>2017-11-07</td>\n",
       "      <td>57.290</td>\n",
       "      <td>57.3460</td>\n",
       "      <td>57.1446</td>\n",
       "      <td>57.2850</td>\n",
       "      <td>50935</td>\n",
       "      <td>0.008728</td>\n",
       "    </tr>\n",
       "    <tr>\n",
       "      <th>1562</th>\n",
       "      <td>2017-11-08</td>\n",
       "      <td>57.310</td>\n",
       "      <td>57.5500</td>\n",
       "      <td>57.2200</td>\n",
       "      <td>57.4900</td>\n",
       "      <td>71770</td>\n",
       "      <td>-0.313098</td>\n",
       "    </tr>\n",
       "    <tr>\n",
       "      <th>1563</th>\n",
       "      <td>2017-11-09</td>\n",
       "      <td>57.230</td>\n",
       "      <td>57.2300</td>\n",
       "      <td>56.7100</td>\n",
       "      <td>56.9265</td>\n",
       "      <td>53130</td>\n",
       "      <td>0.533144</td>\n",
       "    </tr>\n",
       "    <tr>\n",
       "      <th>1564</th>\n",
       "      <td>2017-11-10</td>\n",
       "      <td>56.960</td>\n",
       "      <td>56.9600</td>\n",
       "      <td>56.3909</td>\n",
       "      <td>56.4000</td>\n",
       "      <td>29233</td>\n",
       "      <td>0.992908</td>\n",
       "    </tr>\n",
       "  </tbody>\n",
       "</table>\n",
       "<p>1565 rows × 7 columns</p>\n",
       "</div>"
      ],
      "text/plain": [
       "            Date    Open     High      Low    Close  Volume   Change%\n",
       "0     2010-07-21  24.333  24.3330  23.9460  23.9460   43321  1.616136\n",
       "1     2010-07-22  24.644  24.6440  24.3620  24.4870   18031  0.641157\n",
       "2     2010-07-23  24.759  24.7590  24.3140  24.5070    8897  1.028278\n",
       "3     2010-07-26  24.624  24.6240  24.4490  24.5950   19443  0.117910\n",
       "4     2010-07-27  24.477  24.5170  24.4310  24.5170    8456 -0.163152\n",
       "...          ...     ...      ...      ...      ...     ...       ...\n",
       "1560  2017-11-06  57.610  57.7372  57.2285  57.6500   41601 -0.069384\n",
       "1561  2017-11-07  57.290  57.3460  57.1446  57.2850   50935  0.008728\n",
       "1562  2017-11-08  57.310  57.5500  57.2200  57.4900   71770 -0.313098\n",
       "1563  2017-11-09  57.230  57.2300  56.7100  56.9265   53130  0.533144\n",
       "1564  2017-11-10  56.960  56.9600  56.3909  56.4000   29233  0.992908\n",
       "\n",
       "[1565 rows x 7 columns]"
      ]
     },
     "execution_count": 20,
     "metadata": {},
     "output_type": "execute_result"
    }
   ],
   "source": [
    "df['text'][0]"
   ]
  },
  {
   "cell_type": "code",
   "execution_count": null,
   "id": "28f6d031-5954-4da8-bd16-28657e971a9e",
   "metadata": {},
   "outputs": [],
   "source": []
  },
  {
   "cell_type": "code",
   "execution_count": 21,
   "id": "e82f04ef-55b4-42a5-aa70-b27a0ce76f54",
   "metadata": {},
   "outputs": [
    {
     "data": {
      "text/plain": [
       "Date        object\n",
       "Open       float64\n",
       "High       float64\n",
       "Low        float64\n",
       "Close      float64\n",
       "Volume       int64\n",
       "Change%    float64\n",
       "dtype: object"
      ]
     },
     "execution_count": 21,
     "metadata": {},
     "output_type": "execute_result"
    }
   ],
   "source": [
    "# Types of attributes\n",
    "df['text'][0].dtypes"
   ]
  },
  {
   "cell_type": "code",
   "execution_count": 22,
   "id": "7d62c6bd-c8e6-4a08-b347-6356353e0f46",
   "metadata": {},
   "outputs": [
    {
     "data": {
      "text/html": [
       "<div>\n",
       "<style scoped>\n",
       "    .dataframe tbody tr th:only-of-type {\n",
       "        vertical-align: middle;\n",
       "    }\n",
       "\n",
       "    .dataframe tbody tr th {\n",
       "        vertical-align: top;\n",
       "    }\n",
       "\n",
       "    .dataframe thead th {\n",
       "        text-align: right;\n",
       "    }\n",
       "</style>\n",
       "<table border=\"1\" class=\"dataframe\">\n",
       "  <thead>\n",
       "    <tr style=\"text-align: right;\">\n",
       "      <th></th>\n",
       "      <th>Open</th>\n",
       "      <th>High</th>\n",
       "      <th>Low</th>\n",
       "      <th>Close</th>\n",
       "      <th>Volume</th>\n",
       "      <th>Change%</th>\n",
       "    </tr>\n",
       "  </thead>\n",
       "  <tbody>\n",
       "    <tr>\n",
       "      <th>count</th>\n",
       "      <td>1565.000000</td>\n",
       "      <td>1565.000000</td>\n",
       "      <td>1565.000000</td>\n",
       "      <td>1565.000000</td>\n",
       "      <td>1565.000000</td>\n",
       "      <td>1565.000000</td>\n",
       "    </tr>\n",
       "    <tr>\n",
       "      <th>mean</th>\n",
       "      <td>36.014550</td>\n",
       "      <td>36.137120</td>\n",
       "      <td>35.855319</td>\n",
       "      <td>35.987517</td>\n",
       "      <td>6452.979553</td>\n",
       "      <td>0.067456</td>\n",
       "    </tr>\n",
       "    <tr>\n",
       "      <th>std</th>\n",
       "      <td>6.957747</td>\n",
       "      <td>7.002548</td>\n",
       "      <td>6.878264</td>\n",
       "      <td>6.933814</td>\n",
       "      <td>12047.101114</td>\n",
       "      <td>0.792420</td>\n",
       "    </tr>\n",
       "    <tr>\n",
       "      <th>min</th>\n",
       "      <td>23.936000</td>\n",
       "      <td>23.946000</td>\n",
       "      <td>23.867000</td>\n",
       "      <td>23.946000</td>\n",
       "      <td>2.000000</td>\n",
       "      <td>-4.593798</td>\n",
       "    </tr>\n",
       "    <tr>\n",
       "      <th>25%</th>\n",
       "      <td>29.829000</td>\n",
       "      <td>29.966000</td>\n",
       "      <td>29.819000</td>\n",
       "      <td>29.862000</td>\n",
       "      <td>529.000000</td>\n",
       "      <td>-0.242411</td>\n",
       "    </tr>\n",
       "    <tr>\n",
       "      <th>50%</th>\n",
       "      <td>36.512000</td>\n",
       "      <td>36.571000</td>\n",
       "      <td>36.322000</td>\n",
       "      <td>36.464000</td>\n",
       "      <td>1559.000000</td>\n",
       "      <td>0.000000</td>\n",
       "    </tr>\n",
       "    <tr>\n",
       "      <th>75%</th>\n",
       "      <td>38.957000</td>\n",
       "      <td>39.123000</td>\n",
       "      <td>38.787000</td>\n",
       "      <td>38.838000</td>\n",
       "      <td>5993.000000</td>\n",
       "      <td>0.318077</td>\n",
       "    </tr>\n",
       "    <tr>\n",
       "      <th>max</th>\n",
       "      <td>58.620000</td>\n",
       "      <td>58.720000</td>\n",
       "      <td>57.700000</td>\n",
       "      <td>58.430000</td>\n",
       "      <td>106139.000000</td>\n",
       "      <td>7.224161</td>\n",
       "    </tr>\n",
       "  </tbody>\n",
       "</table>\n",
       "</div>"
      ],
      "text/plain": [
       "              Open         High          Low        Close         Volume  \\\n",
       "count  1565.000000  1565.000000  1565.000000  1565.000000    1565.000000   \n",
       "mean     36.014550    36.137120    35.855319    35.987517    6452.979553   \n",
       "std       6.957747     7.002548     6.878264     6.933814   12047.101114   \n",
       "min      23.936000    23.946000    23.867000    23.946000       2.000000   \n",
       "25%      29.829000    29.966000    29.819000    29.862000     529.000000   \n",
       "50%      36.512000    36.571000    36.322000    36.464000    1559.000000   \n",
       "75%      38.957000    39.123000    38.787000    38.838000    5993.000000   \n",
       "max      58.620000    58.720000    57.700000    58.430000  106139.000000   \n",
       "\n",
       "           Change%  \n",
       "count  1565.000000  \n",
       "mean      0.067456  \n",
       "std       0.792420  \n",
       "min      -4.593798  \n",
       "25%      -0.242411  \n",
       "50%       0.000000  \n",
       "75%       0.318077  \n",
       "max       7.224161  "
      ]
     },
     "execution_count": 22,
     "metadata": {},
     "output_type": "execute_result"
    }
   ],
   "source": [
    "# Insights of the value scope\n",
    "df['text'][0].describe()"
   ]
  },
  {
   "cell_type": "code",
   "execution_count": 23,
   "id": "3dab12b6-a77f-4ae5-9e58-31f59ea54497",
   "metadata": {},
   "outputs": [
    {
     "name": "stdout",
     "output_type": "stream",
     "text": [
      "change_procent: 0.06745563554523598\n",
      "avg: 6452.979552715655\n"
     ]
    }
   ],
   "source": [
    "# Mean of change% and volume\n",
    "change_procent = np.mean(df['text'][0]['Change%'])\n",
    "avg = np.mean(df['text'][0]['Volume'])\n",
    "\n",
    "print(f'change_procent: {change_procent}')\n",
    "print(f'avg: {avg}')"
   ]
  },
  {
   "cell_type": "markdown",
   "id": "39b97ee3-8c42-4aa6-9095-347f995983b2",
   "metadata": {},
   "source": [
    "# Visualisation"
   ]
  },
  {
   "cell_type": "code",
   "execution_count": 24,
   "id": "b0c56ac7-c656-4ee4-a157-adc3a4c24fbf",
   "metadata": {},
   "outputs": [],
   "source": [
    "# Other utilities\n",
    "from sklearn import datasets, preprocessing, metrics\n",
    "\n",
    "import matplotlib.pyplot as plt"
   ]
  },
  {
   "cell_type": "code",
   "execution_count": 25,
   "id": "9abb0be4-f299-4f62-acaf-c20ec0562596",
   "metadata": {},
   "outputs": [
    {
     "data": {
      "image/png": "[encoded data removed]",
      "text/plain": [
       "<Figure size 1000x600 with 1 Axes>"
      ]
     },
     "metadata": {},
     "output_type": "display_data"
    }
   ],
   "source": [
    "tmp1 = df['text'][0]\n",
    "\n",
    "plt.figure(figsize=(10, 6))\n",
    "plt.plot(pd.to_datetime(tmp1['Date']), tmp1['Close'])\n",
    "plt.title('Close Prices Over Time (2010-2017)')\n",
    "plt.xlabel('Date')\n",
    "plt.ylabel('Close Price')\n",
    "plt.grid(True)\n",
    "plt.tight_layout()\n",
    "plt.show()"
   ]
  },
  {
   "cell_type": "code",
   "execution_count": null,
   "id": "bc81032a-663b-4ee6-8304-000f18c2b114",
   "metadata": {},
   "outputs": [],
   "source": []
  },
  {
   "cell_type": "code",
   "execution_count": null,
   "id": "21f2c370-8607-4054-ac61-ab1655910a78",
   "metadata": {},
   "outputs": [],
   "source": []
  }
 ],
 "metadata": {
  "kernelspec": {
   "display_name": "Python 3 (ipykernel)",
   "language": "python",
   "name": "python3"
  },
  "language_info": {
   "codemirror_mode": {
    "name": "ipython",
    "version": 3
   },
   "file_extension": ".py",
   "mimetype": "text/x-python",
   "name": "python",
   "nbconvert_exporter": "python",
   "pygments_lexer": "ipython3",
   "version": "3.11.5"
  }
 },
 "nbformat": 4,
 "nbformat_minor": 5
}
