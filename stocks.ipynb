{
 "cells": [
  {
   "cell_type": "markdown",
   "id": "2e22a4b4-c1cc-405b-b412-092f1c695970",
   "metadata": {},
   "source": [
    "# Data loading:"
   ]
  },
  {
   "cell_type": "code",
   "execution_count": null,
   "id": "878a0292-2deb-457d-8ef4-029fadcde3ef",
   "metadata": {},
   "outputs": [],
   "source": [
    "# import our own data reader for txt \n",
    "import txtreader as tr\n",
    "\n",
    "# import pandas for structuring the data\n",
    "import pandas as pd\n",
    "\n",
    "# import numpy for numerical analysis\n",
    "import numpy as np\n",
    "\n",
    "import os"
   ]
  },
  {
   "cell_type": "code",
   "execution_count": null,
   "id": "1a3f4c89-839f-4a32-802e-cfd8da72929b",
   "metadata": {},
   "outputs": [],
   "source": [
    "# Geting path for txt file. Using os.\n",
    "cwd = os.getcwd()\n",
    "path = cwd + '\\\\data\\\\aadr.us.txt'"
   ]
  },
  {
   "cell_type": "code",
   "execution_count": null,
   "id": "15f9765b-05f1-459d-9fc1-3b64d59ea046",
   "metadata": {},
   "outputs": [],
   "source": [
    "# Loading data file with type txt, using txtreader (tr):\n",
    "metadata, text = tr.read_txt(path)"
   ]
  },
  {
   "cell_type": "code",
   "execution_count": null,
   "id": "b9c4d912-d489-45f7-929c-e3947052e526",
   "metadata": {},
   "outputs": [],
   "source": [
    "# File metadata:\n",
    "metadata"
   ]
  },
  {
   "cell_type": "code",
   "execution_count": null,
   "id": "ba099b8c-53f5-4b8e-b9a4-d6efa6856180",
   "metadata": {},
   "outputs": [],
   "source": [
    "# File raw text/content:\n",
    "text"
   ]
  },
  {
   "cell_type": "code",
   "execution_count": null,
   "id": "ff39743f-dec6-469c-b621-089285f571b7",
   "metadata": {},
   "outputs": [],
   "source": [
    "# Make a DataFrame with the columns filetype, meta and text:\n",
    "df = pd.DataFrame(columns = ['filetype','meta', 'text'])"
   ]
  },
  {
   "cell_type": "code",
   "execution_count": null,
   "id": "2bc9e006-150e-4353-96be-f24d7acd98d9",
   "metadata": {},
   "outputs": [],
   "source": [
    "# Verify the columns have been created:\n",
    "df"
   ]
  },
  {
   "cell_type": "code",
   "execution_count": null,
   "id": "748c54f5-9e73-4450-a6f7-369ca4f54960",
   "metadata": {},
   "outputs": [],
   "source": [
    "# All the txt files:\n",
    "in_txt = [path]"
   ]
  },
  {
   "cell_type": "code",
   "execution_count": null,
   "id": "cb361392-c298-42d0-aba3-6d46b5db8204",
   "metadata": {},
   "outputs": [],
   "source": [
    "ingestable = []\n",
    "for uri in in_txt:\n",
    "    mymeta, text = tr.read_txt(uri)\n",
    "    ingestable.append(text)\n",
    "    \n",
    "    # Adding an index to the dataframe:\n",
    "    df.loc[len(df.index)] = ['txt', mymeta, text]\n",
    "ingestable"
   ]
  },
  {
   "cell_type": "code",
   "execution_count": null,
   "id": "b8f4d0dd-8f87-41ea-9376-02e24aba1be8",
   "metadata": {},
   "outputs": [],
   "source": [
    "df "
   ]
  },
  {
   "cell_type": "code",
   "execution_count": null,
   "id": "11ec71c4-bbb2-418e-9e7f-d575d6fba3ad",
   "metadata": {
    "scrolled": true
   },
   "outputs": [],
   "source": [
    "df['text'][0].head()"
   ]
  },
  {
   "cell_type": "code",
   "execution_count": null,
   "id": "7ba2c2aa-06ee-45df-9c3b-83dd832286e3",
   "metadata": {
    "scrolled": true
   },
   "outputs": [],
   "source": [
    "df['text'][0].shape"
   ]
  },
  {
   "cell_type": "code",
   "execution_count": null,
   "id": "f46f4f0f-d5d9-4516-bdf8-4152769c0725",
   "metadata": {},
   "outputs": [],
   "source": [
    "df['text'][0].columns"
   ]
  },
  {
   "cell_type": "markdown",
   "id": "eb397983-0832-4461-a12e-2fbfc3550d5f",
   "metadata": {},
   "source": [
    "# Exploring and Cleaning Data"
   ]
  },
  {
   "cell_type": "code",
   "execution_count": null,
   "id": "a184e8e8-768b-44ad-9ef7-addbac75b860",
   "metadata": {
    "scrolled": true
   },
   "outputs": [],
   "source": [
    "# Count the missing values in DataFrame\n",
    "df['text'][0].isnull().sum()"
   ]
  },
  {
   "cell_type": "code",
   "execution_count": null,
   "id": "358897ec-ab21-4987-ae77-75b621738545",
   "metadata": {},
   "outputs": [],
   "source": [
    "# Hole row with None \n",
    "df['text'][0].iloc[1565]"
   ]
  },
  {
   "cell_type": "code",
   "execution_count": null,
   "id": "8493046f-90f7-4a7a-af14-1de01044a877",
   "metadata": {},
   "outputs": [],
   "source": [
    "# Droping OpenInt due to being all zero's:\n",
    "df['text'][0] = df['text'][0].drop(['OpenInt'], axis=1)\n",
    "\n",
    "# Droping hole row at index 1565 due to being all None:\n",
    "df['text'][0] = df['text'][0].drop(1565)"
   ]
  },
  {
   "cell_type": "code",
   "execution_count": null,
   "id": "db100905-8596-4b9d-a026-93997013785b",
   "metadata": {},
   "outputs": [],
   "source": [
    "# Now empty/relevant data have been clean/remove:\n",
    "df['text'][0]"
   ]
  },
  {
   "cell_type": "code",
   "execution_count": null,
   "id": "6a9cfd0d-3f62-4bd6-b486-bd6ff2fe4ebf",
   "metadata": {},
   "outputs": [],
   "source": [
    "# Adding an additional column:\n",
    "# The procent change (daily) from when the marked open to close:\n",
    "df['Change%'] =  ((df['Open'] - df['Close']) / df['Close']) * 100"
   ]
  },
  {
   "cell_type": "code",
   "execution_count": null,
   "id": "2de3e5eb-3761-48ab-b0c6-96b23ba9d31f",
   "metadata": {},
   "outputs": [],
   "source": [
    "df['text'][0]"
   ]
  },
  {
   "cell_type": "markdown",
   "id": "39b97ee3-8c42-4aa6-9095-347f995983b2",
   "metadata": {},
   "source": [
    "# Visualisation"
   ]
  },
  {
   "cell_type": "code",
   "execution_count": null,
   "id": "a9ac3221-5acf-4952-979c-4ffa47271323",
   "metadata": {},
   "outputs": [],
   "source": [
    "da = df['text'][0]\n",
    "da"
   ]
  }
 ],
 "metadata": {
  "kernelspec": {
   "display_name": "Python 3 (ipykernel)",
   "language": "python",
   "name": "python3"
  },
  "language_info": {
   "codemirror_mode": {
    "name": "ipython",
    "version": 3
   },
   "file_extension": ".py",
   "mimetype": "text/x-python",
   "name": "python",
   "nbconvert_exporter": "python",
   "pygments_lexer": "ipython3",
   "version": "3.11.5"
  }
 },
 "nbformat": 4,
 "nbformat_minor": 5
}
