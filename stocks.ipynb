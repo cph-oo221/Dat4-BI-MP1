{
 "cells": [
  {
   "cell_type": "markdown",
   "id": "2e22a4b4-c1cc-405b-b412-092f1c695970",
   "metadata": {},
   "source": [
    "# Data loading:"
   ]
  },
  {
   "cell_type": "code",
   "execution_count": null,
   "id": "878a0292-2deb-457d-8ef4-029fadcde3ef",
   "metadata": {},
   "outputs": [],
   "source": [
    "# import our own data reader for txt \n",
    "import txtreader as tr\n",
    "\n",
    "# import pandas for structuring the data\n",
    "import pandas as pd\n",
    "\n",
    "# import numpy for numerical analysis\n",
    "import numpy as np\n",
    "\n",
    "import os"
   ]
  },
  {
   "cell_type": "code",
   "execution_count": null,
   "id": "1a3f4c89-839f-4a32-802e-cfd8da72929b",
   "metadata": {},
   "outputs": [],
   "source": [
    "# Geting path for txt file. Using os.\n",
    "cwd = os.getcwd()\n",
    "path = cwd + '\\\\data\\\\aadr.us.txt'"
   ]
  },
  {
   "cell_type": "code",
   "execution_count": null,
   "id": "15f9765b-05f1-459d-9fc1-3b64d59ea046",
   "metadata": {},
   "outputs": [],
   "source": [
    "# Loading data file with type txt, using txtreader (tr):\n",
    "metadata, text = tr.read_txt(path)"
   ]
  },
  {
   "cell_type": "code",
   "execution_count": null,
   "id": "b9c4d912-d489-45f7-929c-e3947052e526",
   "metadata": {},
   "outputs": [],
   "source": [
    "# File metadata:\n",
    "metadata"
   ]
  },
  {
   "cell_type": "code",
   "execution_count": null,
   "id": "ba099b8c-53f5-4b8e-b9a4-d6efa6856180",
   "metadata": {},
   "outputs": [],
   "source": [
    "# File text/content:\n",
    "text"
   ]
  },
  {
   "cell_type": "code",
   "execution_count": null,
   "id": "ff39743f-dec6-469c-b621-089285f571b7",
   "metadata": {},
   "outputs": [],
   "source": [
    "# Make a DataFrame with the columns filetype, meta and text:\n",
    "df = pd.DataFrame(columns = ['filetype','meta', 'text'])"
   ]
  },
  {
   "cell_type": "code",
   "execution_count": null,
   "id": "2bc9e006-150e-4353-96be-f24d7acd98d9",
   "metadata": {},
   "outputs": [],
   "source": [
    "# Verify the columns have been created:\n",
    "df"
   ]
  },
  {
   "cell_type": "code",
   "execution_count": null,
   "id": "748c54f5-9e73-4450-a6f7-369ca4f54960",
   "metadata": {},
   "outputs": [],
   "source": [
    "# All the txt files:\n",
    "in_txt = [path]"
   ]
  },
  {
   "cell_type": "code",
   "execution_count": null,
   "id": "cb361392-c298-42d0-aba3-6d46b5db8204",
   "metadata": {},
   "outputs": [],
   "source": [
    "ingestable = []\n",
    "for uri in in_txt:\n",
    "    mymeta, text = tr.read_txt(uri)\n",
    "    ingestable.append(text)\n",
    "    \n",
    "    # Adding an index to the dataframe:\n",
    "    df.loc[len(df.index)] = ['txt', mymeta, text]\n",
    "ingestable"
   ]
  },
  {
   "cell_type": "code",
   "execution_count": null,
   "id": "b8f4d0dd-8f87-41ea-9376-02e24aba1be8",
   "metadata": {},
   "outputs": [],
   "source": [
    "df "
   ]
  },
  {
   "cell_type": "code",
   "execution_count": null,
   "id": "d8465511-8a32-410f-a7d2-f174532b847f",
   "metadata": {},
   "outputs": [],
   "source": [
    "df_text = df['text'][0]"
   ]
  },
  {
   "cell_type": "code",
   "execution_count": null,
   "id": "11ec71c4-bbb2-418e-9e7f-d575d6fba3ad",
   "metadata": {
    "scrolled": true
   },
   "outputs": [],
   "source": [
    "df_text.head()"
   ]
  },
  {
   "cell_type": "code",
   "execution_count": null,
   "id": "7ba2c2aa-06ee-45df-9c3b-83dd832286e3",
   "metadata": {
    "scrolled": true
   },
   "outputs": [],
   "source": [
    "df_text.shape"
   ]
  },
  {
   "cell_type": "code",
   "execution_count": null,
   "id": "f46f4f0f-d5d9-4516-bdf8-4152769c0725",
   "metadata": {},
   "outputs": [],
   "source": [
    "df_text.columns"
   ]
  },
  {
   "cell_type": "markdown",
   "id": "eb397983-0832-4461-a12e-2fbfc3550d5f",
   "metadata": {},
   "source": [
    "# Exploring and Cleaning Data"
   ]
  },
  {
   "cell_type": "code",
   "execution_count": null,
   "id": "a184e8e8-768b-44ad-9ef7-addbac75b860",
   "metadata": {
    "scrolled": true
   },
   "outputs": [],
   "source": [
    "# Count the missing values in DataFrame\n",
    "df_text.isnull().sum()"
   ]
  },
  {
   "cell_type": "code",
   "execution_count": null,
   "id": "358897ec-ab21-4987-ae77-75b621738545",
   "metadata": {},
   "outputs": [],
   "source": [
    "# Hole row with None \n",
    "df_text.iloc[1565]"
   ]
  },
  {
   "cell_type": "code",
   "execution_count": null,
   "id": "8493046f-90f7-4a7a-af14-1de01044a877",
   "metadata": {},
   "outputs": [],
   "source": [
    "# Droping OpenInt due to being all zero's:\n",
    "df_text = df_text.drop(['OpenInt'], axis=1)\n",
    "\n",
    "# Droping hole row at index 1565 due to being all None:\n",
    "df_text = df_text.drop(1565)"
   ]
  },
  {
   "cell_type": "code",
   "execution_count": null,
   "id": "db100905-8596-4b9d-a026-93997013785b",
   "metadata": {},
   "outputs": [],
   "source": [
    "# Now empty/relevant data have been clean/remove:\n",
    "df_text"
   ]
  },
  {
   "cell_type": "code",
   "execution_count": null,
   "id": "c2890001-5641-42a6-8a7b-3f55534d2692",
   "metadata": {},
   "outputs": [],
   "source": [
    "# Convert columns to numeric if they are not already:\n",
    "df_text['Open'] = pd.to_numeric(df_text['Open'])\n",
    "df_text['Close'] = pd.to_numeric(df_text['Close'])\n",
    "df_text['High'] = pd.to_numeric(df_text['High'])\n",
    "df_text['Low'] = pd.to_numeric(df_text['Low'])\n",
    "df_text['Volume'] = pd.to_numeric(df_text['Volume'])"
   ]
  },
  {
   "cell_type": "code",
   "execution_count": null,
   "id": "6a9cfd0d-3f62-4bd6-b486-bd6ff2fe4ebf",
   "metadata": {},
   "outputs": [],
   "source": [
    "# Adding an additional column:\n",
    "# The procent change (daily) from when the marked open to close:\n",
    "df_text['Change%'] =  ((df_text['Open'] - df_text['Close']) / df_text['Close'] * 100)"
   ]
  },
  {
   "cell_type": "code",
   "execution_count": null,
   "id": "2de3e5eb-3761-48ab-b0c6-96b23ba9d31f",
   "metadata": {},
   "outputs": [],
   "source": [
    "df_text"
   ]
  },
  {
   "cell_type": "code",
   "execution_count": null,
   "id": "e82f04ef-55b4-42a5-aa70-b27a0ce76f54",
   "metadata": {},
   "outputs": [],
   "source": [
    "# Types of attributes\n",
    "df_text.dtypes"
   ]
  },
  {
   "cell_type": "code",
   "execution_count": null,
   "id": "7d62c6bd-c8e6-4a08-b347-6356353e0f46",
   "metadata": {},
   "outputs": [],
   "source": [
    "# Insights of the value scope\n",
    "df_text.describe()"
   ]
  },
  {
   "cell_type": "code",
   "execution_count": null,
   "id": "3dab12b6-a77f-4ae5-9e58-31f59ea54497",
   "metadata": {},
   "outputs": [],
   "source": [
    "# Mean of change% and volume\n",
    "change_procent = np.mean(df_text['Change%'])\n",
    "avg = np.mean(df_text['Volume'])\n",
    "\n",
    "print(f'change_procent: {change_procent}')\n",
    "print(f'avg: {avg}')"
   ]
  },
  {
   "cell_type": "markdown",
   "id": "39b97ee3-8c42-4aa6-9095-347f995983b2",
   "metadata": {},
   "source": [
    "# Visualisation"
   ]
  },
  {
   "cell_type": "code",
   "execution_count": null,
   "id": "b0c56ac7-c656-4ee4-a157-adc3a4c24fbf",
   "metadata": {},
   "outputs": [],
   "source": [
    "# Other utilities\n",
    "from sklearn import datasets, preprocessing, metrics\n",
    "\n",
    "import matplotlib.pyplot as plt"
   ]
  },
  {
   "cell_type": "code",
   "execution_count": null,
   "id": "9abb0be4-f299-4f62-acaf-c20ec0562596",
   "metadata": {},
   "outputs": [],
   "source": [
    "# Making a diagram that illustrated closing price of a given stock over a period of time (2010 - 2017).\n",
    "\n",
    "plt.figure(figsize=(10, 6))\n",
    "plt.plot(pd.to_datetime(df_text['Date']), df_text['Close'])\n",
    "plt.title('Close Prices Over Time (2010-2017)')\n",
    "plt.xlabel('Date')\n",
    "plt.ylabel('Close Price')\n",
    "plt.grid(True)\n",
    "plt.tight_layout()\n",
    "plt.show()"
   ]
  }
 ],
 "metadata": {
  "kernelspec": {
   "display_name": "Python 3 (ipykernel)",
   "language": "python",
   "name": "python3"
  },
  "language_info": {
   "codemirror_mode": {
    "name": "ipython",
    "version": 3
   },
   "file_extension": ".py",
   "mimetype": "text/x-python",
   "name": "python",
   "nbconvert_exporter": "python",
   "pygments_lexer": "ipython3",
   "version": "3.11.5"
  }
 },
 "nbformat": 4,
 "nbformat_minor": 5
}
