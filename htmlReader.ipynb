{
 "cells": [
  {
   "cell_type": "code",
   "execution_count": null,
   "id": "65ba586f",
   "metadata": {},
   "outputs": [],
   "source": [
    "%%writefile readhtml.py\n",
    "from bs4 import BeautifulSoup\n",
    "import requests\n",
    "import numpy as np\n",
    "import pandas as pd\n",
    "from urllib.parse import urlparse\n",
    "\n",
    "# Method takes a webpage url,\n",
    "# and returns an array of strings:\n",
    "# [filetype, title, metadata, body, link0, link1, link2, link3]\n",
    "# metadata is seperated in key/value by \"=\"\n",
    "# tag content and links are separated by space\n",
    "\n",
    "def readhtml(url: str) -> [str]:\n",
    "    \n",
    "    try:\n",
    "        print(f'Trying url: {url}')\n",
    "        data = requests.get(url)\n",
    "    except Exception as err:\n",
    "        print(err)\n",
    "        return None;\n",
    "        \n",
    "    html = BeautifulSoup(data.text, \"html.parser\")\n",
    "    if html == None:\n",
    "        return html;\n",
    "    \n",
    "    head = html.head != None\n",
    "    title = ''\n",
    "    metadata = ''\n",
    "        \n",
    "    domain = urlparse(url).netloc\n",
    "        \n",
    "    if head:\n",
    "        title_tag = html.head.find('title')\n",
    "        title = title_tag.string if title_tag != None else np.nan\n",
    "        \n",
    "        for meta in html.head.find_all('meta'):\n",
    "            for key in meta.attrs.keys():\n",
    "                metadata += f'{key}={meta[key]} '\n",
    "    else:\n",
    "        title = np.nan\n",
    "        meta = np.nan\n",
    "        \n",
    "    links = []\n",
    "    content = ''\n",
    "    if html.body != None:\n",
    "        for a_tag in html.body.find_all('a'):\n",
    "            link = a_tag.get('href')\n",
    "            if link is None:\n",
    "                continue;\n",
    "            if link.startswith('http://') or link.startswith('https://'):\n",
    "                if (len(links) > 3):\n",
    "                    break;\n",
    "                links.append(link)\n",
    "            \n",
    "        for elem in html.body.stripped_strings:\n",
    "            content += elem + ' '\n",
    "    links.extend([np.nan] * (4 - len(links)))\n",
    "    \n",
    "    return 'html', domain, title, content, metadata, *links\n",
    "\n",
    "# takes an array of start urls, and integer representing the depth of the search\n",
    "# calls readhtml recursively and blacklists bad responses, and already visited pages\n",
    "# returns a pandas dataframe\n",
    "\n",
    "def readhtml_recursively(start_urls: [str], max_depth: int):\n",
    "    \n",
    "    df = pd.DataFrame(columns = ['filetype', 'domain', 'title', 'content', 'meta', 'link0', 'link1', 'link2', 'link3', 'level'])\n",
    "    urls_to_read = start_urls\n",
    "    black_list = []\n",
    "    \n",
    "    for iteration in range(max_depth):\n",
    "        for url in urls_to_read:\n",
    "            result = readhtml(url)\n",
    "            if result != None:\n",
    "                df.loc[len(df.index)] = [*result, iteration]\n",
    "            else:\n",
    "                black_list.append(url)\n",
    "            \n",
    "\n",
    "        links0 = df['link0'].to_list()\n",
    "        links1 = df['link1'].to_list()\n",
    "        links2 = df['link2'].to_list()\n",
    "        links3 = df['link3'].to_list()\n",
    "\n",
    "        links_total = [*links0, *links1, *links2, *links3]\n",
    "        \n",
    "        urls_to_read.clear()\n",
    "        for link in links_total:\n",
    "            if isinstance(link, str) and link not in black_list:\n",
    "                urls_to_read.append(link)\n",
    "                black_list.append(link)\n",
    "    \n",
    "    return df;"
   ]
  },
  {
   "cell_type": "markdown",
   "id": "277c41f9",
   "metadata": {},
   "source": [
    "## Test. Get data from urls"
   ]
  },
  {
   "cell_type": "code",
   "execution_count": null,
   "id": "b1bcc32b",
   "metadata": {},
   "outputs": [],
   "source": [
    "# from readhtml import readhtml\n",
    "import pandas as pd\n",
    "\n",
    "# file_type, meta, content = readhtml('https://example.com')\n",
    "\n",
    "# df = pd.DataFrame(columns = ['filetype', 'title', 'content', 'meta', 'link0', 'link1', 'link2', 'link3'])\n",
    "\n",
    "url_arr = ['https://id.ku.dk'\n",
    "    'https://google.com',\n",
    "          'https://example.com',\n",
    "           'https://theguardian.com',\n",
    "#          'https://dr.dk',\n",
    "#          'https://cphbusiness.dk',\n",
    "#           'https://aljazeera.com'\n",
    "          ]\n",
    "\n",
    "df = readhtml_recursively(url_arr, 5)\n",
    "df"
   ]
  },
  {
   "cell_type": "code",
   "execution_count": null,
   "id": "a494e5ca",
   "metadata": {},
   "outputs": [],
   "source": [
    "df['title']"
   ]
  },
  {
   "cell_type": "code",
   "execution_count": null,
   "id": "eda2f4c5",
   "metadata": {},
   "outputs": [],
   "source": [
    "df.isnull().sum()"
   ]
  },
  {
   "cell_type": "code",
   "execution_count": null,
   "id": "9276de60",
   "metadata": {},
   "outputs": [],
   "source": [
    "df[\"domain\"] = df[\"domain\"].astype('category')"
   ]
  },
  {
   "cell_type": "code",
   "execution_count": null,
   "id": "a81c17b2",
   "metadata": {},
   "outputs": [],
   "source": [
    "cat_data = df.select_dtypes(['category']).columns\n",
    "cat_data"
   ]
  },
  {
   "cell_type": "code",
   "execution_count": null,
   "id": "0a8cff82",
   "metadata": {},
   "outputs": [],
   "source": [
    "bar_chart = df['domain'].value_counts().plot(kind='bar',figsize=(14,8),\n",
    "                                    title=\"Number of pages associated with domain\")"
   ]
  }
 ],
 "metadata": {
  "kernelspec": {
   "display_name": "Python 3 (ipykernel)",
   "language": "python",
   "name": "python3"
  },
  "language_info": {
   "codemirror_mode": {
    "name": "ipython",
    "version": 3
   },
   "file_extension": ".py",
   "mimetype": "text/x-python",
   "name": "python",
   "nbconvert_exporter": "python",
   "pygments_lexer": "ipython3",
   "version": "3.11.6"
  }
 },
 "nbformat": 4,
 "nbformat_minor": 5
}
