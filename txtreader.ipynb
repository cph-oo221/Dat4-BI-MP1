{
 "cells": [
  {
   "cell_type": "code",
   "execution_count": 1,
   "id": "131b7940-9d6e-48d2-9af4-7aa20e3e8ba8",
   "metadata": {},
   "outputs": [
    {
     "name": "stdout",
     "output_type": "stream",
     "text": [
      "Overwriting txtreader.py\n"
     ]
    }
   ],
   "source": [
    "%%writefile txtreader.py\n",
    "\n",
    "import pandas as pd\n",
    "from meta import getMeta\n",
    "\n",
    "def read_txt(filename):\n",
    "    with open(filename, 'r') as file:\n",
    "        raw_txt = file.read()\n",
    "\n",
    "    txt = getDfTxt(raw_txt)\n",
    "    \n",
    "    mymeta = getMeta(filename)\n",
    "    \n",
    "    return mymeta, txt\n",
    "\n",
    "def getDfTxt(raw_txt):\n",
    "\n",
    "    # Splitting raw_txt into lines and removing any leading/trailing whitespaces\n",
    "    lines = [line.strip() for line in raw_txt.split('\\n')]\n",
    "\n",
    "    # Extracting column names from the first line (assuming it contains headers)\n",
    "    columns = [column.strip() for column in lines[0].split(',')]\n",
    "\n",
    "    # Extracting data from subsequent lines\n",
    "    data = [line.split(',') for line in lines[1:]]\n",
    "\n",
    "    # Make DataFrame\n",
    "    df = pd.DataFrame(data, columns=columns)\n",
    "    return df"
   ]
  },
  {
   "cell_type": "markdown",
   "id": "1428ff61-fe01-4f81-808f-1ee0db9be377",
   "metadata": {},
   "source": [
    "# Test - read txt"
   ]
  },
  {
   "cell_type": "code",
   "execution_count": 2,
   "id": "9505f6b2-69e0-444e-82fb-d162fe9db98a",
   "metadata": {},
   "outputs": [],
   "source": [
    "import txtreader"
   ]
  },
  {
   "cell_type": "code",
   "execution_count": 3,
   "id": "2be63815-8ee5-4df5-adf8-062d438c248b",
   "metadata": {},
   "outputs": [],
   "source": [
    "import os\n",
    "pwd = os.getcwd()\n",
    "path = pwd + \"\\\\data\""
   ]
  },
  {
   "cell_type": "code",
   "execution_count": 4,
   "id": "1ad3adf4-5f83-45e3-b1ed-a3bd756c549d",
   "metadata": {},
   "outputs": [],
   "source": [
    "file = path + \"\\\\aadr.us.txt\"\n",
    "metadata, text = txtreader.read_txt(file)"
   ]
  },
  {
   "cell_type": "code",
   "execution_count": 5,
   "id": "85d4e971-8cdd-4625-a4f8-c85441030999",
   "metadata": {},
   "outputs": [
    {
     "data": {
      "text/plain": [
       "{'created': '2024-02-06 11:00:16',\n",
       " 'modified': '2024-02-06 10:30:54',\n",
       " 'size': 72474}"
      ]
     },
     "execution_count": 5,
     "metadata": {},
     "output_type": "execute_result"
    }
   ],
   "source": [
    "metadata"
   ]
  },
  {
   "cell_type": "code",
   "execution_count": 6,
   "id": "ebbe563b-fe71-4dda-b1f9-6a82e5d17c4b",
   "metadata": {},
   "outputs": [
    {
     "data": {
      "text/html": [
       "<div>\n",
       "<style scoped>\n",
       "    .dataframe tbody tr th:only-of-type {\n",
       "        vertical-align: middle;\n",
       "    }\n",
       "\n",
       "    .dataframe tbody tr th {\n",
       "        vertical-align: top;\n",
       "    }\n",
       "\n",
       "    .dataframe thead th {\n",
       "        text-align: right;\n",
       "    }\n",
       "</style>\n",
       "<table border=\"1\" class=\"dataframe\">\n",
       "  <thead>\n",
       "    <tr style=\"text-align: right;\">\n",
       "      <th></th>\n",
       "      <th>Date</th>\n",
       "      <th>Open</th>\n",
       "      <th>High</th>\n",
       "      <th>Low</th>\n",
       "      <th>Close</th>\n",
       "      <th>Volume</th>\n",
       "      <th>OpenInt</th>\n",
       "    </tr>\n",
       "  </thead>\n",
       "  <tbody>\n",
       "    <tr>\n",
       "      <th>0</th>\n",
       "      <td>2010-07-21</td>\n",
       "      <td>24.333</td>\n",
       "      <td>24.333</td>\n",
       "      <td>23.946</td>\n",
       "      <td>23.946</td>\n",
       "      <td>43321</td>\n",
       "      <td>0</td>\n",
       "    </tr>\n",
       "    <tr>\n",
       "      <th>1</th>\n",
       "      <td>2010-07-22</td>\n",
       "      <td>24.644</td>\n",
       "      <td>24.644</td>\n",
       "      <td>24.362</td>\n",
       "      <td>24.487</td>\n",
       "      <td>18031</td>\n",
       "      <td>0</td>\n",
       "    </tr>\n",
       "    <tr>\n",
       "      <th>2</th>\n",
       "      <td>2010-07-23</td>\n",
       "      <td>24.759</td>\n",
       "      <td>24.759</td>\n",
       "      <td>24.314</td>\n",
       "      <td>24.507</td>\n",
       "      <td>8897</td>\n",
       "      <td>0</td>\n",
       "    </tr>\n",
       "    <tr>\n",
       "      <th>3</th>\n",
       "      <td>2010-07-26</td>\n",
       "      <td>24.624</td>\n",
       "      <td>24.624</td>\n",
       "      <td>24.449</td>\n",
       "      <td>24.595</td>\n",
       "      <td>19443</td>\n",
       "      <td>0</td>\n",
       "    </tr>\n",
       "    <tr>\n",
       "      <th>4</th>\n",
       "      <td>2010-07-27</td>\n",
       "      <td>24.477</td>\n",
       "      <td>24.517</td>\n",
       "      <td>24.431</td>\n",
       "      <td>24.517</td>\n",
       "      <td>8456</td>\n",
       "      <td>0</td>\n",
       "    </tr>\n",
       "    <tr>\n",
       "      <th>...</th>\n",
       "      <td>...</td>\n",
       "      <td>...</td>\n",
       "      <td>...</td>\n",
       "      <td>...</td>\n",
       "      <td>...</td>\n",
       "      <td>...</td>\n",
       "      <td>...</td>\n",
       "    </tr>\n",
       "    <tr>\n",
       "      <th>1561</th>\n",
       "      <td>2017-11-07</td>\n",
       "      <td>57.29</td>\n",
       "      <td>57.346</td>\n",
       "      <td>57.1446</td>\n",
       "      <td>57.285</td>\n",
       "      <td>50935</td>\n",
       "      <td>0</td>\n",
       "    </tr>\n",
       "    <tr>\n",
       "      <th>1562</th>\n",
       "      <td>2017-11-08</td>\n",
       "      <td>57.31</td>\n",
       "      <td>57.55</td>\n",
       "      <td>57.22</td>\n",
       "      <td>57.49</td>\n",
       "      <td>71770</td>\n",
       "      <td>0</td>\n",
       "    </tr>\n",
       "    <tr>\n",
       "      <th>1563</th>\n",
       "      <td>2017-11-09</td>\n",
       "      <td>57.23</td>\n",
       "      <td>57.23</td>\n",
       "      <td>56.71</td>\n",
       "      <td>56.9265</td>\n",
       "      <td>53130</td>\n",
       "      <td>0</td>\n",
       "    </tr>\n",
       "    <tr>\n",
       "      <th>1564</th>\n",
       "      <td>2017-11-10</td>\n",
       "      <td>56.96</td>\n",
       "      <td>56.96</td>\n",
       "      <td>56.3909</td>\n",
       "      <td>56.4</td>\n",
       "      <td>29233</td>\n",
       "      <td>0</td>\n",
       "    </tr>\n",
       "    <tr>\n",
       "      <th>1565</th>\n",
       "      <td></td>\n",
       "      <td>None</td>\n",
       "      <td>None</td>\n",
       "      <td>None</td>\n",
       "      <td>None</td>\n",
       "      <td>None</td>\n",
       "      <td>None</td>\n",
       "    </tr>\n",
       "  </tbody>\n",
       "</table>\n",
       "<p>1566 rows × 7 columns</p>\n",
       "</div>"
      ],
      "text/plain": [
       "            Date    Open    High      Low    Close Volume OpenInt\n",
       "0     2010-07-21  24.333  24.333   23.946   23.946  43321       0\n",
       "1     2010-07-22  24.644  24.644   24.362   24.487  18031       0\n",
       "2     2010-07-23  24.759  24.759   24.314   24.507   8897       0\n",
       "3     2010-07-26  24.624  24.624   24.449   24.595  19443       0\n",
       "4     2010-07-27  24.477  24.517   24.431   24.517   8456       0\n",
       "...          ...     ...     ...      ...      ...    ...     ...\n",
       "1561  2017-11-07   57.29  57.346  57.1446   57.285  50935       0\n",
       "1562  2017-11-08   57.31   57.55    57.22    57.49  71770       0\n",
       "1563  2017-11-09   57.23   57.23    56.71  56.9265  53130       0\n",
       "1564  2017-11-10   56.96   56.96  56.3909     56.4  29233       0\n",
       "1565                None    None     None     None   None    None\n",
       "\n",
       "[1566 rows x 7 columns]"
      ]
     },
     "execution_count": 6,
     "metadata": {},
     "output_type": "execute_result"
    }
   ],
   "source": [
    "text"
   ]
  },
  {
   "cell_type": "code",
   "execution_count": 7,
   "id": "5e667b05-363e-415f-b6e5-ff7bcad85119",
   "metadata": {},
   "outputs": [],
   "source": [
    "import pandas as pd"
   ]
  },
  {
   "cell_type": "code",
   "execution_count": 8,
   "id": "ecefd827-9bcb-4317-a572-424703f80e8e",
   "metadata": {},
   "outputs": [],
   "source": [
    "df = pd.DataFrame(columns = ['filetype','meta', 'text'])"
   ]
  },
  {
   "cell_type": "code",
   "execution_count": 9,
   "id": "bc8c4567-a700-44df-85bb-05230679b0d9",
   "metadata": {},
   "outputs": [
    {
     "data": {
      "text/html": [
       "<div>\n",
       "<style scoped>\n",
       "    .dataframe tbody tr th:only-of-type {\n",
       "        vertical-align: middle;\n",
       "    }\n",
       "\n",
       "    .dataframe tbody tr th {\n",
       "        vertical-align: top;\n",
       "    }\n",
       "\n",
       "    .dataframe thead th {\n",
       "        text-align: right;\n",
       "    }\n",
       "</style>\n",
       "<table border=\"1\" class=\"dataframe\">\n",
       "  <thead>\n",
       "    <tr style=\"text-align: right;\">\n",
       "      <th></th>\n",
       "      <th>filetype</th>\n",
       "      <th>meta</th>\n",
       "      <th>text</th>\n",
       "    </tr>\n",
       "  </thead>\n",
       "  <tbody>\n",
       "  </tbody>\n",
       "</table>\n",
       "</div>"
      ],
      "text/plain": [
       "Empty DataFrame\n",
       "Columns: [filetype, meta, text]\n",
       "Index: []"
      ]
     },
     "execution_count": 9,
     "metadata": {},
     "output_type": "execute_result"
    }
   ],
   "source": [
    "df"
   ]
  },
  {
   "cell_type": "code",
   "execution_count": 10,
   "id": "fb7e5081-54eb-4dc3-a4f6-484e019d6cc7",
   "metadata": {},
   "outputs": [],
   "source": [
    "in_doc = [file]"
   ]
  },
  {
   "cell_type": "code",
   "execution_count": 11,
   "id": "f041b2d4-1c3b-4199-a76e-9970dc2dfbbd",
   "metadata": {},
   "outputs": [],
   "source": [
    "ingestable = []\n",
    "for uri in in_doc:\n",
    "    mymeta, text = txtreader.read_txt(uri)\n",
    "    ingestable.append(text)\n",
    "    \n",
    "    # Adding an index to the dataframe:\n",
    "    df.loc[len(df.index)] = ['txt', mymeta, text]"
   ]
  },
  {
   "cell_type": "code",
   "execution_count": 12,
   "id": "c5bd25ca-b01a-4e9b-bc82-91cd2d076e04",
   "metadata": {},
   "outputs": [
    {
     "data": {
      "text/html": [
       "<div>\n",
       "<style scoped>\n",
       "    .dataframe tbody tr th:only-of-type {\n",
       "        vertical-align: middle;\n",
       "    }\n",
       "\n",
       "    .dataframe tbody tr th {\n",
       "        vertical-align: top;\n",
       "    }\n",
       "\n",
       "    .dataframe thead th {\n",
       "        text-align: right;\n",
       "    }\n",
       "</style>\n",
       "<table border=\"1\" class=\"dataframe\">\n",
       "  <thead>\n",
       "    <tr style=\"text-align: right;\">\n",
       "      <th></th>\n",
       "      <th>filetype</th>\n",
       "      <th>meta</th>\n",
       "      <th>text</th>\n",
       "    </tr>\n",
       "  </thead>\n",
       "  <tbody>\n",
       "    <tr>\n",
       "      <th>0</th>\n",
       "      <td>txt</td>\n",
       "      <td>{'created': '2024-02-06 11:00:16', 'modified':...</td>\n",
       "      <td>Date    Open    High      Low    C...</td>\n",
       "    </tr>\n",
       "  </tbody>\n",
       "</table>\n",
       "</div>"
      ],
      "text/plain": [
       "  filetype                                               meta  \\\n",
       "0      txt  {'created': '2024-02-06 11:00:16', 'modified':...   \n",
       "\n",
       "                                                text  \n",
       "0              Date    Open    High      Low    C...  "
      ]
     },
     "execution_count": 12,
     "metadata": {},
     "output_type": "execute_result"
    }
   ],
   "source": [
    "df"
   ]
  },
  {
   "cell_type": "code",
   "execution_count": 13,
   "id": "b1c0dc40-c99a-4a88-a26f-92e4bbc48ff4",
   "metadata": {},
   "outputs": [
    {
     "data": {
      "text/plain": [
       "Index(['filetype', 'meta', 'text'], dtype='object')"
      ]
     },
     "execution_count": 13,
     "metadata": {},
     "output_type": "execute_result"
    }
   ],
   "source": [
    "df.columns"
   ]
  },
  {
   "cell_type": "code",
   "execution_count": 14,
   "id": "21ce8167-c0b5-4086-9bda-35f9c41775ed",
   "metadata": {},
   "outputs": [
    {
     "data": {
      "text/plain": [
       "'2024-02-06 11:00:16'"
      ]
     },
     "execution_count": 14,
     "metadata": {},
     "output_type": "execute_result"
    }
   ],
   "source": [
    "df['meta'][0]['created']"
   ]
  },
  {
   "cell_type": "code",
   "execution_count": 15,
   "id": "c1ab3ce5-9687-400e-86d1-4824472b0e9f",
   "metadata": {},
   "outputs": [
    {
     "data": {
      "text/html": [
       "<div>\n",
       "<style scoped>\n",
       "    .dataframe tbody tr th:only-of-type {\n",
       "        vertical-align: middle;\n",
       "    }\n",
       "\n",
       "    .dataframe tbody tr th {\n",
       "        vertical-align: top;\n",
       "    }\n",
       "\n",
       "    .dataframe thead th {\n",
       "        text-align: right;\n",
       "    }\n",
       "</style>\n",
       "<table border=\"1\" class=\"dataframe\">\n",
       "  <thead>\n",
       "    <tr style=\"text-align: right;\">\n",
       "      <th></th>\n",
       "      <th>Date</th>\n",
       "      <th>Open</th>\n",
       "      <th>High</th>\n",
       "      <th>Low</th>\n",
       "      <th>Close</th>\n",
       "      <th>Volume</th>\n",
       "      <th>OpenInt</th>\n",
       "    </tr>\n",
       "  </thead>\n",
       "  <tbody>\n",
       "    <tr>\n",
       "      <th>0</th>\n",
       "      <td>2010-07-21</td>\n",
       "      <td>24.333</td>\n",
       "      <td>24.333</td>\n",
       "      <td>23.946</td>\n",
       "      <td>23.946</td>\n",
       "      <td>43321</td>\n",
       "      <td>0</td>\n",
       "    </tr>\n",
       "    <tr>\n",
       "      <th>1</th>\n",
       "      <td>2010-07-22</td>\n",
       "      <td>24.644</td>\n",
       "      <td>24.644</td>\n",
       "      <td>24.362</td>\n",
       "      <td>24.487</td>\n",
       "      <td>18031</td>\n",
       "      <td>0</td>\n",
       "    </tr>\n",
       "    <tr>\n",
       "      <th>2</th>\n",
       "      <td>2010-07-23</td>\n",
       "      <td>24.759</td>\n",
       "      <td>24.759</td>\n",
       "      <td>24.314</td>\n",
       "      <td>24.507</td>\n",
       "      <td>8897</td>\n",
       "      <td>0</td>\n",
       "    </tr>\n",
       "    <tr>\n",
       "      <th>3</th>\n",
       "      <td>2010-07-26</td>\n",
       "      <td>24.624</td>\n",
       "      <td>24.624</td>\n",
       "      <td>24.449</td>\n",
       "      <td>24.595</td>\n",
       "      <td>19443</td>\n",
       "      <td>0</td>\n",
       "    </tr>\n",
       "    <tr>\n",
       "      <th>4</th>\n",
       "      <td>2010-07-27</td>\n",
       "      <td>24.477</td>\n",
       "      <td>24.517</td>\n",
       "      <td>24.431</td>\n",
       "      <td>24.517</td>\n",
       "      <td>8456</td>\n",
       "      <td>0</td>\n",
       "    </tr>\n",
       "    <tr>\n",
       "      <th>...</th>\n",
       "      <td>...</td>\n",
       "      <td>...</td>\n",
       "      <td>...</td>\n",
       "      <td>...</td>\n",
       "      <td>...</td>\n",
       "      <td>...</td>\n",
       "      <td>...</td>\n",
       "    </tr>\n",
       "    <tr>\n",
       "      <th>1561</th>\n",
       "      <td>2017-11-07</td>\n",
       "      <td>57.29</td>\n",
       "      <td>57.346</td>\n",
       "      <td>57.1446</td>\n",
       "      <td>57.285</td>\n",
       "      <td>50935</td>\n",
       "      <td>0</td>\n",
       "    </tr>\n",
       "    <tr>\n",
       "      <th>1562</th>\n",
       "      <td>2017-11-08</td>\n",
       "      <td>57.31</td>\n",
       "      <td>57.55</td>\n",
       "      <td>57.22</td>\n",
       "      <td>57.49</td>\n",
       "      <td>71770</td>\n",
       "      <td>0</td>\n",
       "    </tr>\n",
       "    <tr>\n",
       "      <th>1563</th>\n",
       "      <td>2017-11-09</td>\n",
       "      <td>57.23</td>\n",
       "      <td>57.23</td>\n",
       "      <td>56.71</td>\n",
       "      <td>56.9265</td>\n",
       "      <td>53130</td>\n",
       "      <td>0</td>\n",
       "    </tr>\n",
       "    <tr>\n",
       "      <th>1564</th>\n",
       "      <td>2017-11-10</td>\n",
       "      <td>56.96</td>\n",
       "      <td>56.96</td>\n",
       "      <td>56.3909</td>\n",
       "      <td>56.4</td>\n",
       "      <td>29233</td>\n",
       "      <td>0</td>\n",
       "    </tr>\n",
       "    <tr>\n",
       "      <th>1565</th>\n",
       "      <td></td>\n",
       "      <td>None</td>\n",
       "      <td>None</td>\n",
       "      <td>None</td>\n",
       "      <td>None</td>\n",
       "      <td>None</td>\n",
       "      <td>None</td>\n",
       "    </tr>\n",
       "  </tbody>\n",
       "</table>\n",
       "<p>1566 rows × 7 columns</p>\n",
       "</div>"
      ],
      "text/plain": [
       "            Date    Open    High      Low    Close Volume OpenInt\n",
       "0     2010-07-21  24.333  24.333   23.946   23.946  43321       0\n",
       "1     2010-07-22  24.644  24.644   24.362   24.487  18031       0\n",
       "2     2010-07-23  24.759  24.759   24.314   24.507   8897       0\n",
       "3     2010-07-26  24.624  24.624   24.449   24.595  19443       0\n",
       "4     2010-07-27  24.477  24.517   24.431   24.517   8456       0\n",
       "...          ...     ...     ...      ...      ...    ...     ...\n",
       "1561  2017-11-07   57.29  57.346  57.1446   57.285  50935       0\n",
       "1562  2017-11-08   57.31   57.55    57.22    57.49  71770       0\n",
       "1563  2017-11-09   57.23   57.23    56.71  56.9265  53130       0\n",
       "1564  2017-11-10   56.96   56.96  56.3909     56.4  29233       0\n",
       "1565                None    None     None     None   None    None\n",
       "\n",
       "[1566 rows x 7 columns]"
      ]
     },
     "execution_count": 15,
     "metadata": {},
     "output_type": "execute_result"
    }
   ],
   "source": [
    "df['text'][0]"
   ]
  },
  {
   "cell_type": "code",
   "execution_count": null,
   "id": "e97c7905-3131-46e1-8e9e-7bde05144301",
   "metadata": {},
   "outputs": [],
   "source": []
  }
 ],
 "metadata": {
  "kernelspec": {
   "display_name": "Python 3 (ipykernel)",
   "language": "python",
   "name": "python3"
  },
  "language_info": {
   "codemirror_mode": {
    "name": "ipython",
    "version": 3
   },
   "file_extension": ".py",
   "mimetype": "text/x-python",
   "name": "python",
   "nbconvert_exporter": "python",
   "pygments_lexer": "ipython3",
   "version": "3.11.5"
  }
 },
 "nbformat": 4,
 "nbformat_minor": 5
}
