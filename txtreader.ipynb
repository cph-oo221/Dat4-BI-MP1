{
 "cells": [
  {
   "cell_type": "code",
   "execution_count": null,
   "id": "131b7940-9d6e-48d2-9af4-7aa20e3e8ba8",
   "metadata": {},
   "outputs": [],
   "source": [
    "%%writefile txtreader.py\n",
    "\n",
    "import pandas as pd\n",
    "from meta import getMeta\n",
    "\n",
    "def read_txt(filename):\n",
    "    with open(filename, 'r') as file:\n",
    "        raw_txt = file.read()\n",
    "\n",
    "    txt = getDfTxt(raw_txt)\n",
    "    \n",
    "    mymeta = getMeta(filename)\n",
    "    \n",
    "    return mymeta, txt\n",
    "\n",
    "def getDfTxt(raw_txt):\n",
    "\n",
    "    # Splitting raw_txt into lines and removing any leading/trailing whitespaces\n",
    "    lines = [line.strip() for line in raw_txt.split('\\n')]\n",
    "\n",
    "    # Extracting column names from the first line (assuming it contains headers)\n",
    "    columns = [column.strip() for column in lines[0].split(',')]\n",
    "\n",
    "    # Extracting data from subsequent lines\n",
    "    data = [line.split(',') for line in lines[1:]]\n",
    "\n",
    "    # Make DataFrame\n",
    "    df = pd.DataFrame(data, columns=columns)\n",
    "    return df"
   ]
  },
  {
   "cell_type": "markdown",
   "id": "1428ff61-fe01-4f81-808f-1ee0db9be377",
   "metadata": {},
   "source": [
    "# Test - read txt"
   ]
  },
  {
   "cell_type": "code",
   "execution_count": null,
   "id": "9505f6b2-69e0-444e-82fb-d162fe9db98a",
   "metadata": {},
   "outputs": [],
   "source": [
    "import txtreader"
   ]
  },
  {
   "cell_type": "code",
   "execution_count": null,
   "id": "2be63815-8ee5-4df5-adf8-062d438c248b",
   "metadata": {},
   "outputs": [],
   "source": [
    "import os\n",
    "pwd = os.getcwd()\n",
    "path = pwd + \"\\\\data\""
   ]
  },
  {
   "cell_type": "code",
   "execution_count": null,
   "id": "1ad3adf4-5f83-45e3-b1ed-a3bd756c549d",
   "metadata": {},
   "outputs": [],
   "source": [
    "file = path + \"\\\\aadr.us.txt\"\n",
    "metadata, text = txtreader.read_txt(file)"
   ]
  },
  {
   "cell_type": "code",
   "execution_count": null,
   "id": "85d4e971-8cdd-4625-a4f8-c85441030999",
   "metadata": {},
   "outputs": [],
   "source": [
    "metadata"
   ]
  },
  {
   "cell_type": "code",
   "execution_count": null,
   "id": "ebbe563b-fe71-4dda-b1f9-6a82e5d17c4b",
   "metadata": {},
   "outputs": [],
   "source": [
    "text"
   ]
  },
  {
   "cell_type": "code",
   "execution_count": null,
   "id": "5e667b05-363e-415f-b6e5-ff7bcad85119",
   "metadata": {},
   "outputs": [],
   "source": [
    "import pandas as pd"
   ]
  },
  {
   "cell_type": "code",
   "execution_count": null,
   "id": "ecefd827-9bcb-4317-a572-424703f80e8e",
   "metadata": {},
   "outputs": [],
   "source": [
    "df = pd.DataFrame(columns = ['filetype','meta', 'text'])"
   ]
  },
  {
   "cell_type": "code",
   "execution_count": null,
   "id": "bc8c4567-a700-44df-85bb-05230679b0d9",
   "metadata": {},
   "outputs": [],
   "source": [
    "df"
   ]
  },
  {
   "cell_type": "code",
   "execution_count": null,
   "id": "fb7e5081-54eb-4dc3-a4f6-484e019d6cc7",
   "metadata": {},
   "outputs": [],
   "source": [
    "in_doc = [file]"
   ]
  },
  {
   "cell_type": "code",
   "execution_count": null,
   "id": "f041b2d4-1c3b-4199-a76e-9970dc2dfbbd",
   "metadata": {},
   "outputs": [],
   "source": [
    "ingestable = []\n",
    "for uri in in_doc:\n",
    "    mymeta, text = txtreader.read_txt(uri)\n",
    "    ingestable.append(text)\n",
    "    \n",
    "    # Adding an index to the dataframe:\n",
    "    df.loc[len(df.index)] = ['txt', mymeta, text]"
   ]
  },
  {
   "cell_type": "code",
   "execution_count": null,
   "id": "c5bd25ca-b01a-4e9b-bc82-91cd2d076e04",
   "metadata": {},
   "outputs": [],
   "source": [
    "df"
   ]
  },
  {
   "cell_type": "code",
   "execution_count": null,
   "id": "b1c0dc40-c99a-4a88-a26f-92e4bbc48ff4",
   "metadata": {},
   "outputs": [],
   "source": [
    "df.columns"
   ]
  },
  {
   "cell_type": "code",
   "execution_count": null,
   "id": "21ce8167-c0b5-4086-9bda-35f9c41775ed",
   "metadata": {},
   "outputs": [],
   "source": [
    "df['meta'][0]['created']"
   ]
  },
  {
   "cell_type": "code",
   "execution_count": null,
   "id": "c1ab3ce5-9687-400e-86d1-4824472b0e9f",
   "metadata": {},
   "outputs": [],
   "source": [
    "df['text'][0]"
   ]
  },
  {
   "cell_type": "code",
   "execution_count": null,
   "id": "e97c7905-3131-46e1-8e9e-7bde05144301",
   "metadata": {},
   "outputs": [],
   "source": []
  }
 ],
 "metadata": {
  "kernelspec": {
   "display_name": "Python 3 (ipykernel)",
   "language": "python",
   "name": "python3"
  },
  "language_info": {
   "codemirror_mode": {
    "name": "ipython",
    "version": 3
   },
   "file_extension": ".py",
   "mimetype": "text/x-python",
   "name": "python",
   "nbconvert_exporter": "python",
   "pygments_lexer": "ipython3",
   "version": "3.11.5"
  }
 },
 "nbformat": 4,
 "nbformat_minor": 5
}
