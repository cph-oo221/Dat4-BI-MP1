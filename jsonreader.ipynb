{
 "cells": [
  {
   "cell_type": "code",
   "execution_count": null,
   "id": "20af872d-41c9-4533-9338-d52869ab4967",
   "metadata": {},
   "outputs": [],
   "source": [
    "%%writefile jsonreader.py\n",
    "\n",
    "import pandas as pd\n",
    "from meta import getMeta\n",
    "\n",
    "def read_json(filename):\n",
    "    with open(filename, \"r\") as json:\n",
    "        tmp_json = json.read()\n",
    "\n",
    "    data = getDf(tmp_json)\n",
    "    mymeta = getMeta(filename)\n",
    "    return mymeta, data\n",
    "\n",
    "def getDf(data):\n",
    "    json_data = eval(data)\n",
    "    df = pd.DataFrame(json_data)\n",
    "    return df"
   ]
  },
  {
   "cell_type": "markdown",
   "id": "96790f7a-43ed-45ba-82d6-d9f8a8e26727",
   "metadata": {},
   "source": [
    "# Test - Read Json"
   ]
  },
  {
   "cell_type": "code",
   "execution_count": null,
   "id": "d0b12bb4-8421-497f-973b-3e895e14d320",
   "metadata": {},
   "outputs": [],
   "source": [
    "import jsonreader"
   ]
  },
  {
   "cell_type": "code",
   "execution_count": null,
   "id": "9b68a731-3281-4289-ab93-49e518029857",
   "metadata": {},
   "outputs": [],
   "source": [
    "import os\n",
    "pwd = os.getcwd()\n",
    "path = pwd + \"\\\\data\""
   ]
  },
  {
   "cell_type": "code",
   "execution_count": null,
   "id": "d10ccdff-8f97-43b5-9dab-c858b54274e9",
   "metadata": {},
   "outputs": [],
   "source": [
    "file = path + \"\\\\tv_shows_and_movies_sample.json\"\n",
    "metadata, text = jsonreader.read_json(file)"
   ]
  },
  {
   "cell_type": "code",
   "execution_count": null,
   "id": "3b773046-96fe-4280-931c-b6c6d1b66627",
   "metadata": {},
   "outputs": [],
   "source": [
    "metadata"
   ]
  },
  {
   "cell_type": "code",
   "execution_count": null,
   "id": "5d010ea1-1e41-45b1-8018-e756ffe2ad29",
   "metadata": {},
   "outputs": [],
   "source": [
    "text"
   ]
  }
 ],
 "metadata": {
  "kernelspec": {
   "display_name": "Python 3 (ipykernel)",
   "language": "python",
   "name": "python3"
  },
  "language_info": {
   "codemirror_mode": {
    "name": "ipython",
    "version": 3
   },
   "file_extension": ".py",
   "mimetype": "text/x-python",
   "name": "python",
   "nbconvert_exporter": "python",
   "pygments_lexer": "ipython3",
   "version": "3.11.5"
  }
 },
 "nbformat": 4,
 "nbformat_minor": 5
}
