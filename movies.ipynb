{
 "cells": [
  {
   "cell_type": "markdown",
   "id": "2c5fa63f-dd92-4010-b41b-3cd23ff5489d",
   "metadata": {},
   "source": [
    "# Data Loading:"
   ]
  },
  {
   "cell_type": "code",
   "execution_count": null,
   "id": "97339a1f-925d-48c4-9fc1-7a1888e35bd1",
   "metadata": {},
   "outputs": [],
   "source": [
    "# import our own data reader for json\n",
    "import jsonreader as jr\n",
    "\n",
    "# import pandas for structuring the data\n",
    "import pandas as pd\n",
    "\n",
    "# import numpy for numerical analysis\n",
    "import numpy as np\n",
    "\n",
    "import os"
   ]
  },
  {
   "cell_type": "code",
   "execution_count": null,
   "id": "e9589fb4-9e3a-45f6-a2ef-a3acae6ebfa0",
   "metadata": {},
   "outputs": [],
   "source": [
    "# Geting path for JSON file. Using os for getting the path.\n",
    "cwd = os.getcwd()\n",
    "path = cwd + '\\\\data\\\\tv_shows_and_movies_sample.json'"
   ]
  },
  {
   "cell_type": "code",
   "execution_count": null,
   "id": "1aa0c046-c498-4e81-8fe9-30bcb5b2f4cf",
   "metadata": {},
   "outputs": [],
   "source": [
    "# Loading json file in using jsonreader (jr):\n",
    "metadata, text = jr.read_json(path)"
   ]
  },
  {
   "cell_type": "code",
   "execution_count": null,
   "id": "dc056586-9be5-4c1f-bfe9-9fedaac06961",
   "metadata": {},
   "outputs": [],
   "source": [
    "# File metadata\n",
    "metadata"
   ]
  },
  {
   "cell_type": "code",
   "execution_count": null,
   "id": "2f4ff4f1-6642-4ee9-9f81-64370ef27883",
   "metadata": {},
   "outputs": [],
   "source": [
    "# File text:\n",
    "text"
   ]
  },
  {
   "cell_type": "code",
   "execution_count": null,
   "id": "9f7b33c4-6d86-4237-bd4e-b69f4082502f",
   "metadata": {},
   "outputs": [],
   "source": [
    "# Make a DataFrame with the columns filetype, meta and text:\n",
    "dataf = pd.DataFrame(columns = ['filetype','meta', 'text'])"
   ]
  },
  {
   "cell_type": "code",
   "execution_count": null,
   "id": "b1e51400-7c0d-456e-b54e-b4ba1bae9a85",
   "metadata": {},
   "outputs": [],
   "source": [
    "dataf"
   ]
  },
  {
   "cell_type": "code",
   "execution_count": null,
   "id": "98f6ff9a-1402-419e-bd52-9cc1563b9a40",
   "metadata": {},
   "outputs": [],
   "source": [
    "# All the txt files:\n",
    "in_json = [path]"
   ]
  },
  {
   "cell_type": "code",
   "execution_count": null,
   "id": "14b4cf38-48bb-47e2-a60d-47b99cb1839d",
   "metadata": {},
   "outputs": [],
   "source": [
    "for uri in in_json:\n",
    "    mymeta, text = jr.read_json(uri)\n",
    "    \n",
    "    # Adding an index to the dataframe:\n",
    "    dataf.loc[len(dataf.index)] = ['json', mymeta, text]"
   ]
  },
  {
   "cell_type": "code",
   "execution_count": null,
   "id": "ba11e850-6ccf-46fc-958e-7bd63a030d18",
   "metadata": {},
   "outputs": [],
   "source": [
    "dataf"
   ]
  },
  {
   "cell_type": "code",
   "execution_count": null,
   "id": "ed86ca18-8291-4c47-8e0a-7450c0f06eff",
   "metadata": {},
   "outputs": [],
   "source": [
    "df = dataf['text'][0]"
   ]
  },
  {
   "cell_type": "code",
   "execution_count": null,
   "id": "d976d3a3-93a5-46b9-a666-8efe7c7d8b1c",
   "metadata": {},
   "outputs": [],
   "source": [
    "df.head()"
   ]
  },
  {
   "cell_type": "code",
   "execution_count": null,
   "id": "49f92a7b-81d4-49f0-adac-f20831731e45",
   "metadata": {},
   "outputs": [],
   "source": [
    "df.shape"
   ]
  },
  {
   "cell_type": "code",
   "execution_count": null,
   "id": "9ea7ec75-d61b-4aca-a7eb-d4848e14afe5",
   "metadata": {},
   "outputs": [],
   "source": [
    "df.columns"
   ]
  },
  {
   "cell_type": "markdown",
   "id": "6c263efb-e11d-494a-b23a-e182818a5bc7",
   "metadata": {},
   "source": [
    "# Exploring and Cleaning Data"
   ]
  },
  {
   "cell_type": "code",
   "execution_count": null,
   "id": "3205dd82-6609-4d29-a490-5c2132897d03",
   "metadata": {
    "scrolled": true
   },
   "outputs": [],
   "source": [
    "# Checking missing values from DataFrame:\n",
    "df.isnull().sum()"
   ]
  },
  {
   "cell_type": "code",
   "execution_count": null,
   "id": "926671a3-87e1-4cfe-a74e-9a1d37b7cf9d",
   "metadata": {
    "scrolled": true
   },
   "outputs": [],
   "source": [
    "# Drop unnecessary columns\n",
    "df = df.drop(['link', 'poster', 'scraped_at', 'uniq_id', 'country'], axis=1)"
   ]
  },
  {
   "cell_type": "code",
   "execution_count": null,
   "id": "04ddb644-1169-4b2a-97b4-ab18a911e9d1",
   "metadata": {},
   "outputs": [],
   "source": [
    "# Clean up 'imdb_rating' column\n",
    "df['imdb_rating'] = df['imdb_rating'].str.extract(r'(\\d+\\.\\d+)').astype(float)\n",
    "df.head()"
   ]
  },
  {
   "cell_type": "code",
   "execution_count": null,
   "id": "af241583-e360-4b30-90b0-6d503bc6f2e1",
   "metadata": {},
   "outputs": [],
   "source": [
    "# Remove unwanted characters from 'content_rating' column\n",
    "df['content_rating'] = df['content_rating'].str.replace(r'[^A-Za-z0-9\\s]', '')\n",
    "df"
   ]
  },
  {
   "cell_type": "code",
   "execution_count": null,
   "id": "8b64ddc0-0f16-46cd-bbb7-6e6322a7b8fb",
   "metadata": {},
   "outputs": [],
   "source": [
    "# Split 'cast_and_crew' into separate columns\n",
    "df['director'] = df['cast_and_crew'].str.extract(r\"'name':\\s+'([^']+)'\", expand=False)\n",
    "df['director_description'] = df['cast_and_crew'].str.extract(r\"'description':\\s+'([^']+)'\", expand=False)\n",
    "df"
   ]
  },
  {
   "cell_type": "code",
   "execution_count": null,
   "id": "5b8fa57e-0350-4663-aead-e9df29867576",
   "metadata": {},
   "outputs": [],
   "source": [
    "# Drop the original 'cast_and_crew' column\n",
    "df = df.drop('cast_and_crew', axis=1)"
   ]
  },
  {
   "cell_type": "code",
   "execution_count": null,
   "id": "ec186b69-94ef-4b76-b9fb-831349c03a56",
   "metadata": {},
   "outputs": [],
   "source": [
    "# Function for replaceing all empty with na\n",
    "def replace_empty(columns):\n",
    "    for i in range(len(columns)):\n",
    "        name = columns[i]\n",
    "        print(name)\n",
    "        df[name] = df[name].replace('', pd.NA)"
   ]
  },
  {
   "cell_type": "code",
   "execution_count": null,
   "id": "8763bd2b-a7cf-4330-a055-7e7087c0fe7b",
   "metadata": {
    "scrolled": true
   },
   "outputs": [],
   "source": [
    "# Use replace_empty to remove empty cells\n",
    "replace_empty(df.columns)\n"
   ]
  },
  {
   "cell_type": "code",
   "execution_count": null,
   "id": "479a5ade-d206-425f-9daa-16551b4e41c2",
   "metadata": {},
   "outputs": [],
   "source": [
    "# Function that count all nah/na values\n",
    "def get_cell_count_na(columns):\n",
    "    counts = {}\n",
    "    for i in range(len(columns)):\n",
    "        name = columns[i]\n",
    "        counts[name] = df[name].isna().sum()\n",
    "    return counts    "
   ]
  },
  {
   "cell_type": "code",
   "execution_count": null,
   "id": "61baea94-cbfd-440d-b674-e7ae83cf028f",
   "metadata": {
    "scrolled": true
   },
   "outputs": [],
   "source": [
    "na_count = get_cell_count_na(df.columns)\n",
    "for key, value in na_count.items():\n",
    "    print(f'{key} : {value}')"
   ]
  },
  {
   "cell_type": "code",
   "execution_count": null,
   "id": "f958d5f2-aabc-4915-b372-9d8c49904367",
   "metadata": {},
   "outputs": [],
   "source": [
    "df.dtypes"
   ]
  },
  {
   "cell_type": "code",
   "execution_count": null,
   "id": "5abf366b-fec4-4493-a2b3-f25be19c735e",
   "metadata": {
    "scrolled": true
   },
   "outputs": [],
   "source": [
    "# Replace/transform or remove na values:\n",
    "df = df.dropna(subset=['released_at'])\n",
    "\n",
    "df['genre'] = df['genre'].fillna('Unknown')\n",
    "df['imdb_rating'] = df['imdb_rating'].fillna(-1) \n",
    "df['director'] = df['director'].fillna('Unknown')\n",
    "df['director_description'] = df['director_description'].fillna('Unknown')\n",
    "df['number_of_seasons'] = df['number_of_seasons'].fillna('0')\n",
    "\n",
    "df['content_rating'] = df['content_rating'].fillna('0+')\n",
    "df"
   ]
  },
  {
   "cell_type": "code",
   "execution_count": null,
   "id": "244a34b3-e094-45d9-9d6e-6a9ca57e7793",
   "metadata": {},
   "outputs": [],
   "source": [
    "# Reset index\n",
    "df = df.reset_index(drop=True)\n",
    "df"
   ]
  },
  {
   "cell_type": "markdown",
   "id": "fea67bae-debd-42b3-b635-3903f9586a58",
   "metadata": {},
   "source": [
    "# Visualisation "
   ]
  },
  {
   "cell_type": "code",
   "execution_count": null,
   "id": "4b42011c-828e-4eba-b822-e14f82b7b57c",
   "metadata": {},
   "outputs": [],
   "source": [
    "# Other utilities\n",
    "from sklearn import datasets, preprocessing, metrics\n",
    "import matplotlib.pyplot as plt"
   ]
  },
  {
   "cell_type": "code",
   "execution_count": null,
   "id": "61c3d898-e5a4-4146-9206-b162f67aa8f7",
   "metadata": {},
   "outputs": [],
   "source": [
    "# Histogram of Release Dates:\n",
    "\n",
    "plt.figure(figsize=(10, 6))\n",
    "plt.hist(pd.to_datetime(df['released_at']), bins=30, color='skyblue', edgecolor='black')\n",
    "plt.title('Histogram of Release Dates')\n",
    "plt.xlabel('Release Date')\n",
    "plt.ylabel('Frequency')\n",
    "plt.xticks(rotation=45)\n",
    "plt.grid(True)\n",
    "plt.tight_layout()\n",
    "plt.show()\n",
    "\n",
    "# This histogram shows the distribution of release dates.\n",
    "# This can help with understanding the release pattern over the years"
   ]
  },
  {
   "cell_type": "code",
   "execution_count": null,
   "id": "5f827f1f-1709-4636-a7f7-8bb160ac21ad",
   "metadata": {},
   "outputs": [],
   "source": [
    "# Plot the bar chart\n",
    "\n",
    "# Count the frequency of each genre\n",
    "genre_counts = df['genre'].value_counts()\n",
    "\n",
    "top_genres = genre_counts[genre_counts >= 15]  # Adjust the threshold as needed\n",
    "other_count = genre_counts[genre_counts < 15].sum()\n",
    "top_genres['Other'] = other_count\n",
    "\n",
    "# Plot the bar chart\n",
    "plt.figure(figsize=(10, 6))\n",
    "top_genres.plot(kind='bar', color='skyblue')\n",
    "plt.title('Top Genre Distribution')\n",
    "plt.xlabel('Genre')\n",
    "plt.ylabel('Frequency')\n",
    "plt.xticks(rotation=45, ha='right')\n",
    "plt.grid(axis='y')\n",
    "plt.tight_layout()\n",
    "plt.show()\n",
    "\n",
    "# Bar chart showing the gernres distribution.\n",
    "# This can help understanding the popular genres in the dataset"
   ]
  },
  {
   "cell_type": "code",
   "execution_count": null,
   "id": "bdcfafae-d1bb-433d-9478-961702a6d74e",
   "metadata": {},
   "outputs": [],
   "source": []
  },
  {
   "cell_type": "code",
   "execution_count": null,
   "id": "eb4bd6de-c331-4afe-8697-d2265faf64b1",
   "metadata": {},
   "outputs": [],
   "source": [
    "tv_shows = df[df['type'] == 'TV Show']\n",
    "tv_shows_cleaned = tv_shows.dropna(subset=['number_of_seasons'])\n",
    "\n",
    "# Count the frequency of each number of seasons\n",
    "season_counts = tv_shows_cleaned['number_of_seasons'].value_counts().sort_index()\n",
    "\n",
    "# Plot the bar chart\n",
    "plt.figure(figsize=(10, 6))\n",
    "season_counts.plot(kind='bar', color='skyblue')\n",
    "plt.title('Number of Seasons Distribution for TV Shows')\n",
    "plt.xlabel('Number of Seasons')\n",
    "plt.ylabel('Frequency')\n",
    "plt.xticks(rotation=0)\n",
    "plt.grid(axis='y')\n",
    "plt.tight_layout()\n",
    "plt.show()\n",
    "\n",
    "# Showing the distribution of the number of seasons for TV shows:"
   ]
  },
  {
   "cell_type": "code",
   "execution_count": null,
   "id": "018c074a-81be-43f7-9cae-ebbf2c426687",
   "metadata": {},
   "outputs": [],
   "source": [
    "# Plot the box plot\n",
    "plt.figure(figsize=(8, 6))\n",
    "plt.boxplot(df['imdb_rating'].values, vert=False)\n",
    "plt.title('Box Plot of IMDb Ratings')\n",
    "plt.xlabel('IMDb Rating')\n",
    "plt.yticks([])\n",
    "plt.grid(axis='x')\n",
    "plt.tight_layout()\n",
    "plt.show()\n",
    "\n",
    "# Box plot - IMDb ratings:"
   ]
  },
  {
   "cell_type": "code",
   "execution_count": null,
   "id": "4ce2cd12-30e8-4543-ba29-f68b8323d811",
   "metadata": {},
   "outputs": [],
   "source": [
    "# Plot the scatter plot\n",
    "plt.figure(figsize=(10, 6))\n",
    "plt.scatter(pd.to_datetime(df['released_at']), df['imdb_rating'], color='skyblue', alpha=0.5)\n",
    "plt.title('IMDb Ratings vs. Release Dates')\n",
    "plt.xlabel('Release Date')\n",
    "plt.ylabel('IMDb Rating')\n",
    "plt.xticks(rotation=45)\n",
    "plt.grid(True)\n",
    "plt.tight_layout()\n",
    "plt.show()\n",
    "\n",
    "# Scatter plot showing the relationship between IMDb ratings and release dates:"
   ]
  },
  {
   "cell_type": "code",
   "execution_count": null,
   "id": "d9ef8336-9630-4322-ae9a-281289ab4f72",
   "metadata": {},
   "outputs": [],
   "source": []
  }
 ],
 "metadata": {
  "kernelspec": {
   "display_name": "Python 3 (ipykernel)",
   "language": "python",
   "name": "python3"
  },
  "language_info": {
   "codemirror_mode": {
    "name": "ipython",
    "version": 3
   },
   "file_extension": ".py",
   "mimetype": "text/x-python",
   "name": "python",
   "nbconvert_exporter": "python",
   "pygments_lexer": "ipython3",
   "version": "3.11.5"
  }
 },
 "nbformat": 4,
 "nbformat_minor": 5
}
