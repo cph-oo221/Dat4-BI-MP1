{
 "cells": [
  {
   "cell_type": "code",
   "execution_count": null,
   "id": "6100244a-eec4-41a3-bba8-c64e0010b076",
   "metadata": {},
   "outputs": [],
   "source": [
    "%%writefile meta.py\n",
    "\n",
    "from datetime import datetime\n",
    "import os\n",
    "\n",
    "def getMeta(filename):\n",
    "    metadata = {}\n",
    "    pt = os.path\n",
    "\n",
    "    time_pattern = '%Y-%m-%d %H:%M:%S'\n",
    "    \n",
    "    metadata['created'] = unixtime_to_datetime(pt.getctime(filename), time_pattern)\n",
    "    metadata['modified'] = unixtime_to_datetime(pt.getmtime(filename), time_pattern)\n",
    "    metadata['size'] = pt.getsize(filename)\n",
    "    return metadata\n",
    "\n",
    "def unixtime_to_datetime(unix, pattern):\n",
    "    return datetime.fromtimestamp(unix).strftime(pattern)"
   ]
  }
 ],
 "metadata": {
  "kernelspec": {
   "display_name": "Python 3 (ipykernel)",
   "language": "python",
   "name": "python3"
  },
  "language_info": {
   "codemirror_mode": {
    "name": "ipython",
    "version": 3
   },
   "file_extension": ".py",
   "mimetype": "text/x-python",
   "name": "python",
   "nbconvert_exporter": "python",
   "pygments_lexer": "ipython3",
   "version": "3.11.5"
  }
 },
 "nbformat": 4,
 "nbformat_minor": 5
}
